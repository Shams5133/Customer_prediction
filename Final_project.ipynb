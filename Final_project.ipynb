{
  "nbformat": 4,
  "nbformat_minor": 0,
  "metadata": {
    "colab": {
      "provenance": [],
      "gpuType": "T4"
    },
    "kernelspec": {
      "name": "python3",
      "display_name": "Python 3"
    },
    "language_info": {
      "name": "python"
    },
    "accelerator": "GPU"
  },
  "cells": [
    {
      "cell_type": "markdown",
      "source": [
        "## **Reading data and storing in pandas dataframe**"
      ],
      "metadata": {
        "id": "Zf96h4k5OAhi"
      }
    },
    {
      "cell_type": "code",
      "execution_count": 1,
      "metadata": {
        "colab": {
          "base_uri": "https://localhost:8080/",
          "height": 423
        },
        "id": "Ram1-lZiNm8p",
        "outputId": "19982141-8f4e-4a03-a108-ad623cb57875"
      },
      "outputs": [
        {
          "output_type": "execute_result",
          "data": {
            "text/plain": [
              "       age           job   marital education_qual  call_type  day  mon   dur  \\\n",
              "0       58    management   married       tertiary    unknown    5  may   261   \n",
              "1       44    technician    single      secondary    unknown    5  may   151   \n",
              "2       33  entrepreneur   married      secondary    unknown    5  may    76   \n",
              "3       47   blue-collar   married        unknown    unknown    5  may    92   \n",
              "4       33       unknown    single        unknown    unknown    5  may   198   \n",
              "...    ...           ...       ...            ...        ...  ...  ...   ...   \n",
              "45206   51    technician   married       tertiary   cellular   17  nov   977   \n",
              "45207   71       retired  divorced        primary   cellular   17  nov   456   \n",
              "45208   72       retired   married      secondary   cellular   17  nov  1127   \n",
              "45209   57   blue-collar   married      secondary  telephone   17  nov   508   \n",
              "45210   37  entrepreneur   married      secondary   cellular   17  nov   361   \n",
              "\n",
              "       num_calls prev_outcome    y  \n",
              "0              1      unknown   no  \n",
              "1              1      unknown   no  \n",
              "2              1      unknown   no  \n",
              "3              1      unknown   no  \n",
              "4              1      unknown   no  \n",
              "...          ...          ...  ...  \n",
              "45206          3      unknown  yes  \n",
              "45207          2      unknown  yes  \n",
              "45208          5      success  yes  \n",
              "45209          4      unknown   no  \n",
              "45210          2        other   no  \n",
              "\n",
              "[45211 rows x 11 columns]"
            ],
            "text/html": [
              "\n",
              "\n",
              "  <div id=\"df-97d07896-24bb-49c6-8f49-d45f896926ce\">\n",
              "    <div class=\"colab-df-container\">\n",
              "      <div>\n",
              "<style scoped>\n",
              "    .dataframe tbody tr th:only-of-type {\n",
              "        vertical-align: middle;\n",
              "    }\n",
              "\n",
              "    .dataframe tbody tr th {\n",
              "        vertical-align: top;\n",
              "    }\n",
              "\n",
              "    .dataframe thead th {\n",
              "        text-align: right;\n",
              "    }\n",
              "</style>\n",
              "<table border=\"1\" class=\"dataframe\">\n",
              "  <thead>\n",
              "    <tr style=\"text-align: right;\">\n",
              "      <th></th>\n",
              "      <th>age</th>\n",
              "      <th>job</th>\n",
              "      <th>marital</th>\n",
              "      <th>education_qual</th>\n",
              "      <th>call_type</th>\n",
              "      <th>day</th>\n",
              "      <th>mon</th>\n",
              "      <th>dur</th>\n",
              "      <th>num_calls</th>\n",
              "      <th>prev_outcome</th>\n",
              "      <th>y</th>\n",
              "    </tr>\n",
              "  </thead>\n",
              "  <tbody>\n",
              "    <tr>\n",
              "      <th>0</th>\n",
              "      <td>58</td>\n",
              "      <td>management</td>\n",
              "      <td>married</td>\n",
              "      <td>tertiary</td>\n",
              "      <td>unknown</td>\n",
              "      <td>5</td>\n",
              "      <td>may</td>\n",
              "      <td>261</td>\n",
              "      <td>1</td>\n",
              "      <td>unknown</td>\n",
              "      <td>no</td>\n",
              "    </tr>\n",
              "    <tr>\n",
              "      <th>1</th>\n",
              "      <td>44</td>\n",
              "      <td>technician</td>\n",
              "      <td>single</td>\n",
              "      <td>secondary</td>\n",
              "      <td>unknown</td>\n",
              "      <td>5</td>\n",
              "      <td>may</td>\n",
              "      <td>151</td>\n",
              "      <td>1</td>\n",
              "      <td>unknown</td>\n",
              "      <td>no</td>\n",
              "    </tr>\n",
              "    <tr>\n",
              "      <th>2</th>\n",
              "      <td>33</td>\n",
              "      <td>entrepreneur</td>\n",
              "      <td>married</td>\n",
              "      <td>secondary</td>\n",
              "      <td>unknown</td>\n",
              "      <td>5</td>\n",
              "      <td>may</td>\n",
              "      <td>76</td>\n",
              "      <td>1</td>\n",
              "      <td>unknown</td>\n",
              "      <td>no</td>\n",
              "    </tr>\n",
              "    <tr>\n",
              "      <th>3</th>\n",
              "      <td>47</td>\n",
              "      <td>blue-collar</td>\n",
              "      <td>married</td>\n",
              "      <td>unknown</td>\n",
              "      <td>unknown</td>\n",
              "      <td>5</td>\n",
              "      <td>may</td>\n",
              "      <td>92</td>\n",
              "      <td>1</td>\n",
              "      <td>unknown</td>\n",
              "      <td>no</td>\n",
              "    </tr>\n",
              "    <tr>\n",
              "      <th>4</th>\n",
              "      <td>33</td>\n",
              "      <td>unknown</td>\n",
              "      <td>single</td>\n",
              "      <td>unknown</td>\n",
              "      <td>unknown</td>\n",
              "      <td>5</td>\n",
              "      <td>may</td>\n",
              "      <td>198</td>\n",
              "      <td>1</td>\n",
              "      <td>unknown</td>\n",
              "      <td>no</td>\n",
              "    </tr>\n",
              "    <tr>\n",
              "      <th>...</th>\n",
              "      <td>...</td>\n",
              "      <td>...</td>\n",
              "      <td>...</td>\n",
              "      <td>...</td>\n",
              "      <td>...</td>\n",
              "      <td>...</td>\n",
              "      <td>...</td>\n",
              "      <td>...</td>\n",
              "      <td>...</td>\n",
              "      <td>...</td>\n",
              "      <td>...</td>\n",
              "    </tr>\n",
              "    <tr>\n",
              "      <th>45206</th>\n",
              "      <td>51</td>\n",
              "      <td>technician</td>\n",
              "      <td>married</td>\n",
              "      <td>tertiary</td>\n",
              "      <td>cellular</td>\n",
              "      <td>17</td>\n",
              "      <td>nov</td>\n",
              "      <td>977</td>\n",
              "      <td>3</td>\n",
              "      <td>unknown</td>\n",
              "      <td>yes</td>\n",
              "    </tr>\n",
              "    <tr>\n",
              "      <th>45207</th>\n",
              "      <td>71</td>\n",
              "      <td>retired</td>\n",
              "      <td>divorced</td>\n",
              "      <td>primary</td>\n",
              "      <td>cellular</td>\n",
              "      <td>17</td>\n",
              "      <td>nov</td>\n",
              "      <td>456</td>\n",
              "      <td>2</td>\n",
              "      <td>unknown</td>\n",
              "      <td>yes</td>\n",
              "    </tr>\n",
              "    <tr>\n",
              "      <th>45208</th>\n",
              "      <td>72</td>\n",
              "      <td>retired</td>\n",
              "      <td>married</td>\n",
              "      <td>secondary</td>\n",
              "      <td>cellular</td>\n",
              "      <td>17</td>\n",
              "      <td>nov</td>\n",
              "      <td>1127</td>\n",
              "      <td>5</td>\n",
              "      <td>success</td>\n",
              "      <td>yes</td>\n",
              "    </tr>\n",
              "    <tr>\n",
              "      <th>45209</th>\n",
              "      <td>57</td>\n",
              "      <td>blue-collar</td>\n",
              "      <td>married</td>\n",
              "      <td>secondary</td>\n",
              "      <td>telephone</td>\n",
              "      <td>17</td>\n",
              "      <td>nov</td>\n",
              "      <td>508</td>\n",
              "      <td>4</td>\n",
              "      <td>unknown</td>\n",
              "      <td>no</td>\n",
              "    </tr>\n",
              "    <tr>\n",
              "      <th>45210</th>\n",
              "      <td>37</td>\n",
              "      <td>entrepreneur</td>\n",
              "      <td>married</td>\n",
              "      <td>secondary</td>\n",
              "      <td>cellular</td>\n",
              "      <td>17</td>\n",
              "      <td>nov</td>\n",
              "      <td>361</td>\n",
              "      <td>2</td>\n",
              "      <td>other</td>\n",
              "      <td>no</td>\n",
              "    </tr>\n",
              "  </tbody>\n",
              "</table>\n",
              "<p>45211 rows × 11 columns</p>\n",
              "</div>\n",
              "      <button class=\"colab-df-convert\" onclick=\"convertToInteractive('df-97d07896-24bb-49c6-8f49-d45f896926ce')\"\n",
              "              title=\"Convert this dataframe to an interactive table.\"\n",
              "              style=\"display:none;\">\n",
              "\n",
              "  <svg xmlns=\"http://www.w3.org/2000/svg\" height=\"24px\"viewBox=\"0 0 24 24\"\n",
              "       width=\"24px\">\n",
              "    <path d=\"M0 0h24v24H0V0z\" fill=\"none\"/>\n",
              "    <path d=\"M18.56 5.44l.94 2.06.94-2.06 2.06-.94-2.06-.94-.94-2.06-.94 2.06-2.06.94zm-11 1L8.5 8.5l.94-2.06 2.06-.94-2.06-.94L8.5 2.5l-.94 2.06-2.06.94zm10 10l.94 2.06.94-2.06 2.06-.94-2.06-.94-.94-2.06-.94 2.06-2.06.94z\"/><path d=\"M17.41 7.96l-1.37-1.37c-.4-.4-.92-.59-1.43-.59-.52 0-1.04.2-1.43.59L10.3 9.45l-7.72 7.72c-.78.78-.78 2.05 0 2.83L4 21.41c.39.39.9.59 1.41.59.51 0 1.02-.2 1.41-.59l7.78-7.78 2.81-2.81c.8-.78.8-2.07 0-2.86zM5.41 20L4 18.59l7.72-7.72 1.47 1.35L5.41 20z\"/>\n",
              "  </svg>\n",
              "      </button>\n",
              "\n",
              "\n",
              "\n",
              "    <div id=\"df-1f18d747-9bb3-456b-a809-1cb303032166\">\n",
              "      <button class=\"colab-df-quickchart\" onclick=\"quickchart('df-1f18d747-9bb3-456b-a809-1cb303032166')\"\n",
              "              title=\"Suggest charts.\"\n",
              "              style=\"display:none;\">\n",
              "\n",
              "<svg xmlns=\"http://www.w3.org/2000/svg\" height=\"24px\"viewBox=\"0 0 24 24\"\n",
              "     width=\"24px\">\n",
              "    <g>\n",
              "        <path d=\"M19 3H5c-1.1 0-2 .9-2 2v14c0 1.1.9 2 2 2h14c1.1 0 2-.9 2-2V5c0-1.1-.9-2-2-2zM9 17H7v-7h2v7zm4 0h-2V7h2v10zm4 0h-2v-4h2v4z\"/>\n",
              "    </g>\n",
              "</svg>\n",
              "      </button>\n",
              "    </div>\n",
              "\n",
              "<style>\n",
              "  .colab-df-quickchart {\n",
              "    background-color: #E8F0FE;\n",
              "    border: none;\n",
              "    border-radius: 50%;\n",
              "    cursor: pointer;\n",
              "    display: none;\n",
              "    fill: #1967D2;\n",
              "    height: 32px;\n",
              "    padding: 0 0 0 0;\n",
              "    width: 32px;\n",
              "  }\n",
              "\n",
              "  .colab-df-quickchart:hover {\n",
              "    background-color: #E2EBFA;\n",
              "    box-shadow: 0px 1px 2px rgba(60, 64, 67, 0.3), 0px 1px 3px 1px rgba(60, 64, 67, 0.15);\n",
              "    fill: #174EA6;\n",
              "  }\n",
              "\n",
              "  [theme=dark] .colab-df-quickchart {\n",
              "    background-color: #3B4455;\n",
              "    fill: #D2E3FC;\n",
              "  }\n",
              "\n",
              "  [theme=dark] .colab-df-quickchart:hover {\n",
              "    background-color: #434B5C;\n",
              "    box-shadow: 0px 1px 3px 1px rgba(0, 0, 0, 0.15);\n",
              "    filter: drop-shadow(0px 1px 2px rgba(0, 0, 0, 0.3));\n",
              "    fill: #FFFFFF;\n",
              "  }\n",
              "</style>\n",
              "\n",
              "    <script>\n",
              "      async function quickchart(key) {\n",
              "        const containerElement = document.querySelector('#' + key);\n",
              "        const charts = await google.colab.kernel.invokeFunction(\n",
              "            'suggestCharts', [key], {});\n",
              "      }\n",
              "    </script>\n",
              "\n",
              "      <script>\n",
              "\n",
              "function displayQuickchartButton(domScope) {\n",
              "  let quickchartButtonEl =\n",
              "    domScope.querySelector('#df-1f18d747-9bb3-456b-a809-1cb303032166 button.colab-df-quickchart');\n",
              "  quickchartButtonEl.style.display =\n",
              "    google.colab.kernel.accessAllowed ? 'block' : 'none';\n",
              "}\n",
              "\n",
              "        displayQuickchartButton(document);\n",
              "      </script>\n",
              "      <style>\n",
              "    .colab-df-container {\n",
              "      display:flex;\n",
              "      flex-wrap:wrap;\n",
              "      gap: 12px;\n",
              "    }\n",
              "\n",
              "    .colab-df-convert {\n",
              "      background-color: #E8F0FE;\n",
              "      border: none;\n",
              "      border-radius: 50%;\n",
              "      cursor: pointer;\n",
              "      display: none;\n",
              "      fill: #1967D2;\n",
              "      height: 32px;\n",
              "      padding: 0 0 0 0;\n",
              "      width: 32px;\n",
              "    }\n",
              "\n",
              "    .colab-df-convert:hover {\n",
              "      background-color: #E2EBFA;\n",
              "      box-shadow: 0px 1px 2px rgba(60, 64, 67, 0.3), 0px 1px 3px 1px rgba(60, 64, 67, 0.15);\n",
              "      fill: #174EA6;\n",
              "    }\n",
              "\n",
              "    [theme=dark] .colab-df-convert {\n",
              "      background-color: #3B4455;\n",
              "      fill: #D2E3FC;\n",
              "    }\n",
              "\n",
              "    [theme=dark] .colab-df-convert:hover {\n",
              "      background-color: #434B5C;\n",
              "      box-shadow: 0px 1px 3px 1px rgba(0, 0, 0, 0.15);\n",
              "      filter: drop-shadow(0px 1px 2px rgba(0, 0, 0, 0.3));\n",
              "      fill: #FFFFFF;\n",
              "    }\n",
              "  </style>\n",
              "\n",
              "      <script>\n",
              "        const buttonEl =\n",
              "          document.querySelector('#df-97d07896-24bb-49c6-8f49-d45f896926ce button.colab-df-convert');\n",
              "        buttonEl.style.display =\n",
              "          google.colab.kernel.accessAllowed ? 'block' : 'none';\n",
              "\n",
              "        async function convertToInteractive(key) {\n",
              "          const element = document.querySelector('#df-97d07896-24bb-49c6-8f49-d45f896926ce');\n",
              "          const dataTable =\n",
              "            await google.colab.kernel.invokeFunction('convertToInteractive',\n",
              "                                                     [key], {});\n",
              "          if (!dataTable) return;\n",
              "\n",
              "          const docLinkHtml = 'Like what you see? Visit the ' +\n",
              "            '<a target=\"_blank\" href=https://colab.research.google.com/notebooks/data_table.ipynb>data table notebook</a>'\n",
              "            + ' to learn more about interactive tables.';\n",
              "          element.innerHTML = '';\n",
              "          dataTable['output_type'] = 'display_data';\n",
              "          await google.colab.output.renderOutput(dataTable, element);\n",
              "          const docLink = document.createElement('div');\n",
              "          docLink.innerHTML = docLinkHtml;\n",
              "          element.appendChild(docLink);\n",
              "        }\n",
              "      </script>\n",
              "    </div>\n",
              "  </div>\n"
            ]
          },
          "metadata": {},
          "execution_count": 1
        }
      ],
      "source": [
        "#Viewing data\n",
        "import pandas as pd\n",
        "import numpy as np\n",
        "\n",
        "data = pd.read_csv('train.csv')\n",
        "data.head()\n",
        "data"
      ]
    },
    {
      "cell_type": "code",
      "source": [
        "#Finding unique values in all columns\n",
        "for columns in data.columns:\n",
        "  y = data[columns].unique()\n",
        "  print(columns, y)"
      ],
      "metadata": {
        "colab": {
          "base_uri": "https://localhost:8080/"
        },
        "id": "AFT-S03gORiq",
        "outputId": "2822f0d8-303b-42ef-be72-f66e3c2b552b"
      },
      "execution_count": 2,
      "outputs": [
        {
          "output_type": "stream",
          "name": "stdout",
          "text": [
            "age [58 44 33 47 35 28 42 43 41 29 53 57 51 45 60 56 32 25 40 39 52 46 36 49\n",
            " 59 37 50 54 55 48 24 38 31 30 27 34 23 26 61 22 21 20 66 62 83 75 67 70\n",
            " 65 68 64 69 72 71 19 76 85 63 90 82 73 74 78 80 94 79 77 86 95 81 18 89\n",
            " 84 87 92 93 88]\n",
            "job ['management' 'technician' 'entrepreneur' 'blue-collar' 'unknown'\n",
            " 'retired' 'admin.' 'services' 'self-employed' 'unemployed' 'housemaid'\n",
            " 'student']\n",
            "marital ['married' 'single' 'divorced']\n",
            "education_qual ['tertiary' 'secondary' 'unknown' 'primary']\n",
            "call_type ['unknown' 'cellular' 'telephone']\n",
            "day [ 5  6  7  8  9 12 13 14 15 16 19 20 21 23 26 27 28 29 30  2  3  4 11 17\n",
            " 18 24 25  1 10 22 31]\n",
            "mon ['may' 'jun' 'jul' 'aug' 'oct' 'nov' 'dec' 'jan' 'feb' 'mar' 'apr' 'sep']\n",
            "dur [ 261  151   76 ... 1298 1246 1556]\n",
            "num_calls [ 1  2  3  5  4  6  7  8  9 10 11 12 13 19 14 24 16 32 18 22 15 17 25 21\n",
            " 43 51 63 41 26 28 55 50 38 23 20 29 31 37 30 46 27 58 33 35 34 36 39 44]\n",
            "prev_outcome ['unknown' 'failure' 'other' 'success']\n",
            "y ['no' 'yes']\n"
          ]
        }
      ]
    },
    {
      "cell_type": "markdown",
      "source": [
        "\n",
        "\n",
        "# Cleaning and encoding data"
      ],
      "metadata": {
        "id": "4aZF7gxMLqwz"
      }
    },
    {
      "cell_type": "code",
      "source": [
        "#Encoding target value as 1 and 0\n",
        "data.y = data['y'].map({\"no\":0, \"yes\": 1})"
      ],
      "metadata": {
        "id": "VmhdS8WMct3C"
      },
      "execution_count": 3,
      "outputs": []
    },
    {
      "cell_type": "markdown",
      "source": [
        "job column cleaning and encoding"
      ],
      "metadata": {
        "id": "0daxsJBpLdyW"
      }
    },
    {
      "cell_type": "code",
      "source": [
        "data.job.value_counts()"
      ],
      "metadata": {
        "colab": {
          "base_uri": "https://localhost:8080/"
        },
        "id": "GQpNcrfEXQlu",
        "outputId": "f53936fe-54e9-4766-dc56-d513e0efb6e8"
      },
      "execution_count": 4,
      "outputs": [
        {
          "output_type": "execute_result",
          "data": {
            "text/plain": [
              "blue-collar      9732\n",
              "management       9458\n",
              "technician       7597\n",
              "admin.           5171\n",
              "services         4154\n",
              "retired          2264\n",
              "self-employed    1579\n",
              "entrepreneur     1487\n",
              "unemployed       1303\n",
              "housemaid        1240\n",
              "student           938\n",
              "unknown           288\n",
              "Name: job, dtype: int64"
            ]
          },
          "metadata": {},
          "execution_count": 4
        }
      ]
    },
    {
      "cell_type": "markdown",
      "source": [
        "The number of unknowns is less, so we impute unknowns with the mode 'blue-collar'"
      ],
      "metadata": {
        "id": "uWPqWa4KLJpj"
      }
    },
    {
      "cell_type": "code",
      "source": [
        "data.job.replace(\"unknown\",\"blue-collar\", inplace = True)\n"
      ],
      "metadata": {
        "id": "XSPH6nVMO3is"
      },
      "execution_count": 5,
      "outputs": []
    },
    {
      "cell_type": "code",
      "source": [
        "job_conversion_rate = data.groupby('job')['y'].mean()\n",
        "job_sorted = job_conversion_rate.reset_index().sort_values('y')\n",
        "job_sorted.plot(x = \"job\", y = \"y\", kind = \"bar\")\n"
      ],
      "metadata": {
        "colab": {
          "base_uri": "https://localhost:8080/",
          "height": 555
        },
        "id": "wfiCHJm4U1V7",
        "outputId": "91491c99-17bd-41f4-d25c-3f5e6b559924"
      },
      "execution_count": 6,
      "outputs": [
        {
          "output_type": "execute_result",
          "data": {
            "text/plain": [
              "<Axes: xlabel='job'>"
            ]
          },
          "metadata": {},
          "execution_count": 6
        },
        {
          "output_type": "display_data",
          "data": {
            "text/plain": [
              "<Figure size 640x480 with 1 Axes>"
            ],
            "image/png": "[encoded data removed]"
          },
          "metadata": {}
        }
      ]
    },
    {
      "cell_type": "markdown",
      "source": [
        "Sorting and encoding the job classes according to the conversion rates"
      ],
      "metadata": {
        "id": "rI4IbM9LLVZT"
      }
    },
    {
      "cell_type": "code",
      "source": [
        "data.job = data['job'].map({\"blue-collar\":1,\"entrepreneur\":2, \"housemaid\":3, \"services\":4,\"technician\":5, \"self-employed\":6,\n",
        "                            \"admin.\": 7, \"management\": 8, \"unemployed\":9, \"retired\":10, \"student\":11})"
      ],
      "metadata": {
        "id": "HTzrOPI_VKgM"
      },
      "execution_count": 7,
      "outputs": []
    },
    {
      "cell_type": "markdown",
      "source": [
        "marital status column cleaning and encoding"
      ],
      "metadata": {
        "id": "sG9jGZgJL2Ho"
      }
    },
    {
      "cell_type": "code",
      "source": [
        "data.marital.value_counts()\n"
      ],
      "metadata": {
        "colab": {
          "base_uri": "https://localhost:8080/"
        },
        "id": "Z7jiQiE4grQ7",
        "outputId": "f9512de4-0b9c-41d9-8bac-95a5c5c19e66"
      },
      "execution_count": 8,
      "outputs": [
        {
          "output_type": "execute_result",
          "data": {
            "text/plain": [
              "married     27214\n",
              "single      12790\n",
              "divorced     5207\n",
              "Name: marital, dtype: int64"
            ]
          },
          "metadata": {},
          "execution_count": 8
        }
      ]
    },
    {
      "cell_type": "code",
      "source": [
        "marital_conversion_rate = data.groupby('marital')['y'].mean()\n",
        "marital_sorted = marital_conversion_rate.reset_index().sort_values('y')\n",
        "marital_sorted.plot(x = \"marital\", y = \"y\", kind = \"bar\")\n"
      ],
      "metadata": {
        "colab": {
          "base_uri": "https://localhost:8080/",
          "height": 513
        },
        "id": "I5DCQJSXhcRA",
        "outputId": "dbd9377f-4afa-4eac-fe07-6abc34151f86"
      },
      "execution_count": 9,
      "outputs": [
        {
          "output_type": "execute_result",
          "data": {
            "text/plain": [
              "<Axes: xlabel='marital'>"
            ]
          },
          "metadata": {},
          "execution_count": 9
        },
        {
          "output_type": "display_data",
          "data": {
            "text/plain": [
              "<Figure size 640x480 with 1 Axes>"
            ],
            "image/png": "[encoded data removed]"
          },
          "metadata": {}
        }
      ]
    },
    {
      "cell_type": "code",
      "source": [
        "# data.marital = data['marital'].map({'married': 1, 'divorced': 2, 'single':3})"
      ],
      "metadata": {
        "id": "KpigSpM8PO6q"
      },
      "execution_count": 10,
      "outputs": []
    },
    {
      "cell_type": "markdown",
      "source": [
        "One hot encoding of marital status column"
      ],
      "metadata": {
        "id": "_djA45yuL_GZ"
      }
    },
    {
      "cell_type": "code",
      "source": [
        "data = pd.concat([data, pd.get_dummies(data.marital , 'marital')] , axis = 1)\n",
        "data.drop('marital', axis = 1, inplace = True)"
      ],
      "metadata": {
        "id": "ppGDxZ6Qn7aM"
      },
      "execution_count": 11,
      "outputs": []
    },
    {
      "cell_type": "markdown",
      "source": [
        "Educational qualification column cleaning and encoding"
      ],
      "metadata": {
        "id": "QujQaRICMBCD"
      }
    },
    {
      "cell_type": "code",
      "source": [
        "data.education_qual.value_counts()"
      ],
      "metadata": {
        "colab": {
          "base_uri": "https://localhost:8080/"
        },
        "id": "hJtQ5EKQjXyV",
        "outputId": "442afe7e-dc3b-4c21-fa4b-5254c48a0e8c"
      },
      "execution_count": 12,
      "outputs": [
        {
          "output_type": "execute_result",
          "data": {
            "text/plain": [
              "secondary    23202\n",
              "tertiary     13301\n",
              "primary       6851\n",
              "unknown       1857\n",
              "Name: education_qual, dtype: int64"
            ]
          },
          "metadata": {},
          "execution_count": 12
        }
      ]
    },
    {
      "cell_type": "code",
      "source": [
        "data.education_qual.replace(\"unknown\",\"secondary\", inplace = True)"
      ],
      "metadata": {
        "id": "8q5Gvc_9jevP"
      },
      "execution_count": 13,
      "outputs": []
    },
    {
      "cell_type": "code",
      "source": [
        "edu_conversion_rate = data.groupby('education_qual')['y'].mean()\n",
        "edu_sorted = edu_conversion_rate.reset_index().sort_values('y')\n",
        "edu_sorted.plot(x = \"education_qual\", y = \"y\", kind = \"bar\")"
      ],
      "metadata": {
        "colab": {
          "base_uri": "https://localhost:8080/",
          "height": 526
        },
        "id": "WqiR9qIhbwjv",
        "outputId": "8687f535-a50f-458f-b2ff-2075ba7c1596"
      },
      "execution_count": 14,
      "outputs": [
        {
          "output_type": "execute_result",
          "data": {
            "text/plain": [
              "<Axes: xlabel='education_qual'>"
            ]
          },
          "metadata": {},
          "execution_count": 14
        },
        {
          "output_type": "display_data",
          "data": {
            "text/plain": [
              "<Figure size 640x480 with 1 Axes>"
            ],
            "image/png": "[encoded data removed]"
          },
          "metadata": {}
        }
      ]
    },
    {
      "cell_type": "markdown",
      "source": [
        "Sorting and encoding the classes according to the conversion rates"
      ],
      "metadata": {
        "id": "R-Iu9RPeMJiA"
      }
    },
    {
      "cell_type": "code",
      "source": [
        "data.education_qual = data['education_qual'].map({'primary':1,\"secondary\":2,\"tertiary\":3})\n"
      ],
      "metadata": {
        "id": "yX0HcrrVjEGS"
      },
      "execution_count": 15,
      "outputs": []
    },
    {
      "cell_type": "markdown",
      "source": [
        "Call type column cleaning and encoding"
      ],
      "metadata": {
        "id": "T22FgsQxMO1U"
      }
    },
    {
      "cell_type": "code",
      "source": [
        "data.call_type.value_counts()"
      ],
      "metadata": {
        "colab": {
          "base_uri": "https://localhost:8080/"
        },
        "id": "3rPBDhRXj7r9",
        "outputId": "6ff18e76-7e06-498a-d532-398d08ce7989"
      },
      "execution_count": 16,
      "outputs": [
        {
          "output_type": "execute_result",
          "data": {
            "text/plain": [
              "cellular     29285\n",
              "unknown      13020\n",
              "telephone     2906\n",
              "Name: call_type, dtype: int64"
            ]
          },
          "metadata": {},
          "execution_count": 16
        }
      ]
    },
    {
      "cell_type": "markdown",
      "source": [
        "Here,the unknowns form a large percentage of the data. So we treat unknowns as a seperate class"
      ],
      "metadata": {
        "id": "ETlXzshZMRbF"
      }
    },
    {
      "cell_type": "code",
      "source": [
        "call_type_conversion_rate = data.groupby('call_type')['y'].mean()\n",
        "call_type_sorted = call_type_conversion_rate.reset_index().sort_values('y')\n",
        "call_type_sorted.plot(x = \"call_type\", y = \"y\", kind = \"bar\")"
      ],
      "metadata": {
        "colab": {
          "base_uri": "https://localhost:8080/",
          "height": 523
        },
        "id": "_Lu2dKa4kQPr",
        "outputId": "4c90dc70-29d3-4331-edda-b0004caf3482"
      },
      "execution_count": 17,
      "outputs": [
        {
          "output_type": "execute_result",
          "data": {
            "text/plain": [
              "<Axes: xlabel='call_type'>"
            ]
          },
          "metadata": {},
          "execution_count": 17
        },
        {
          "output_type": "display_data",
          "data": {
            "text/plain": [
              "<Figure size 640x480 with 1 Axes>"
            ],
            "image/png": "[encoded data removed]"
          },
          "metadata": {}
        }
      ]
    },
    {
      "cell_type": "code",
      "source": [
        "# data.call_type = data.call_type.map({\"unknown\":1,\"telephone\":2,\"cellular\":3})\n"
      ],
      "metadata": {
        "id": "9BJb8UUKkikn"
      },
      "execution_count": 18,
      "outputs": []
    },
    {
      "cell_type": "markdown",
      "source": [
        "One hot encoding of call type column"
      ],
      "metadata": {
        "id": "ULftEjhPMZFl"
      }
    },
    {
      "cell_type": "code",
      "source": [
        "data = pd.concat([data, pd.get_dummies(data.call_type , 'call_type')] , axis = 1)\n",
        "data.drop('call_type', axis = 1, inplace = True)"
      ],
      "metadata": {
        "id": "ThBfXroP2BY2"
      },
      "execution_count": 19,
      "outputs": []
    },
    {
      "cell_type": "markdown",
      "source": [
        "Cleaning and encoding of day column"
      ],
      "metadata": {
        "id": "UeoBf4xMMdTd"
      }
    },
    {
      "cell_type": "code",
      "source": [
        "day_conversion_rate = data.groupby('day')['y'].mean()\n",
        "day_sorted = day_conversion_rate.reset_index().sort_values('day')\n",
        "day_sorted.plot(x = \"day\", y = \"y\", kind = \"bar\")"
      ],
      "metadata": {
        "colab": {
          "base_uri": "https://localhost:8080/",
          "height": 471
        },
        "id": "27j4RqaMk33H",
        "outputId": "78b84400-9887-4cbf-e48f-e3bb65679494"
      },
      "execution_count": 20,
      "outputs": [
        {
          "output_type": "execute_result",
          "data": {
            "text/plain": [
              "<Axes: xlabel='day'>"
            ]
          },
          "metadata": {},
          "execution_count": 20
        },
        {
          "output_type": "display_data",
          "data": {
            "text/plain": [
              "<Figure size 640x480 with 1 Axes>"
            ],
            "image/png": "[encoded data removed]"
          },
          "metadata": {}
        }
      ]
    },
    {
      "cell_type": "markdown",
      "source": [
        "Cleaning and encoding of month column"
      ],
      "metadata": {
        "id": "fviJo0aVMgMF"
      }
    },
    {
      "cell_type": "code",
      "source": [
        "mon_conversion_rate = data.groupby('mon')['y'].mean()\n",
        "mon_sorted = mon_conversion_rate.reset_index().sort_values('y')\n",
        "mon_sorted.plot(x = \"mon\", y = \"y\", kind = \"bar\")"
      ],
      "metadata": {
        "colab": {
          "base_uri": "https://localhost:8080/",
          "height": 484
        },
        "id": "SD1eWn6tlpC3",
        "outputId": "98102a70-5ee6-463a-ee78-676734793039"
      },
      "execution_count": 21,
      "outputs": [
        {
          "output_type": "execute_result",
          "data": {
            "text/plain": [
              "<Axes: xlabel='mon'>"
            ]
          },
          "metadata": {},
          "execution_count": 21
        },
        {
          "output_type": "display_data",
          "data": {
            "text/plain": [
              "<Figure size 640x480 with 1 Axes>"
            ],
            "image/png": "[encoded data removed]"
          },
          "metadata": {}
        }
      ]
    },
    {
      "cell_type": "markdown",
      "source": [
        "Sorting months according to the conversion rates and encoding them"
      ],
      "metadata": {
        "id": "1gvmKlSvMjS2"
      }
    },
    {
      "cell_type": "code",
      "source": [
        "data.mon = data.mon.map({\"may\":1,\"jul\":2,\"jan\":3,\"nov\":4,\"jun\":5,\"aug\":6,\"feb\":7,\"apr\":8,\"oct\":9,\"sep\":10,\"dec\":11,\"mar\":12})"
      ],
      "metadata": {
        "id": "CgjAcD41l7c-"
      },
      "execution_count": 22,
      "outputs": []
    },
    {
      "cell_type": "markdown",
      "source": [
        "Cleaning and encoding of duration column"
      ],
      "metadata": {
        "id": "aDq1YE-zMn9h"
      }
    },
    {
      "cell_type": "code",
      "source": [
        "data.dur.describe()"
      ],
      "metadata": {
        "colab": {
          "base_uri": "https://localhost:8080/"
        },
        "id": "LVp6ETNHmaNl",
        "outputId": "9e25ae94-031a-4e25-afd7-4c067f62e672"
      },
      "execution_count": 23,
      "outputs": [
        {
          "output_type": "execute_result",
          "data": {
            "text/plain": [
              "count    45211.000000\n",
              "mean       258.163080\n",
              "std        257.527812\n",
              "min          0.000000\n",
              "25%        103.000000\n",
              "50%        180.000000\n",
              "75%        319.000000\n",
              "max       4918.000000\n",
              "Name: dur, dtype: float64"
            ]
          },
          "metadata": {},
          "execution_count": 23
        }
      ]
    },
    {
      "cell_type": "markdown",
      "source": [
        "Treating outeliers in duration column. IQR = (319-103) = 216\n",
        "\n",
        "1.5 * IQR = 324\n",
        "\n",
        "So thresholds = -221 , 643"
      ],
      "metadata": {
        "id": "AE6QJl9oMqnK"
      }
    },
    {
      "cell_type": "code",
      "source": [
        "data.dur.clip(0,643, inplace = True)\n",
        "data.dur.describe()"
      ],
      "metadata": {
        "colab": {
          "base_uri": "https://localhost:8080/"
        },
        "id": "Ei8iJ4yDmnor",
        "outputId": "fff00ec5-b283-4280-9b00-a36abcb13a80"
      },
      "execution_count": 24,
      "outputs": [
        {
          "output_type": "execute_result",
          "data": {
            "text/plain": [
              "count    45211.000000\n",
              "mean       234.939307\n",
              "std        176.749932\n",
              "min          0.000000\n",
              "25%        103.000000\n",
              "50%        180.000000\n",
              "75%        319.000000\n",
              "max        643.000000\n",
              "Name: dur, dtype: float64"
            ]
          },
          "metadata": {},
          "execution_count": 24
        }
      ]
    },
    {
      "cell_type": "code",
      "source": [
        "dur_conversion_rate = data.groupby('dur')['y'].mean()\n",
        "dur_sorted = dur_conversion_rate.reset_index().sort_values('dur')\n",
        "dur_sorted.plot(x = \"dur\", y = \"y\", kind = \"line\")"
      ],
      "metadata": {
        "colab": {
          "base_uri": "https://localhost:8080/",
          "height": 467
        },
        "id": "K2Xoc8IcNNum",
        "outputId": "b70253e4-e88e-460f-fafe-2e1534dab86d"
      },
      "execution_count": 25,
      "outputs": [
        {
          "output_type": "execute_result",
          "data": {
            "text/plain": [
              "<Axes: xlabel='dur'>"
            ]
          },
          "metadata": {},
          "execution_count": 25
        },
        {
          "output_type": "display_data",
          "data": {
            "text/plain": [
              "<Figure size 640x480 with 1 Axes>"
            ],
            "image/png": "[encoded data removed]"
          },
          "metadata": {}
        }
      ]
    },
    {
      "cell_type": "markdown",
      "source": [
        "Removing noises in the duration value by taking a floor division of 30. This will ground all values to the lower 30 second interval"
      ],
      "metadata": {
        "id": "BzQ7t_CCM7nE"
      }
    },
    {
      "cell_type": "code",
      "source": [
        "data.dur = data.dur.transform(lambda x: x//30)"
      ],
      "metadata": {
        "id": "sIfkktYGi4q7"
      },
      "execution_count": 26,
      "outputs": []
    },
    {
      "cell_type": "code",
      "source": [
        "dur_conversion_rate = data.groupby('dur')['y'].mean()\n",
        "dur_sorted = dur_conversion_rate.reset_index().sort_values('dur')\n",
        "dur_sorted.plot(x = \"dur\", y = \"y\", kind = \"line\")\n"
      ],
      "metadata": {
        "colab": {
          "base_uri": "https://localhost:8080/",
          "height": 467
        },
        "id": "zMHrB1dMTPWc",
        "outputId": "02a47887-bfd4-4a7b-cf57-d73da098509f"
      },
      "execution_count": 27,
      "outputs": [
        {
          "output_type": "execute_result",
          "data": {
            "text/plain": [
              "<Axes: xlabel='dur'>"
            ]
          },
          "metadata": {},
          "execution_count": 27
        },
        {
          "output_type": "display_data",
          "data": {
            "text/plain": [
              "<Figure size 640x480 with 1 Axes>"
            ],
            "image/png": "[encoded data removed]"
          },
          "metadata": {}
        }
      ]
    },
    {
      "cell_type": "code",
      "source": [
        "data.dur.describe()"
      ],
      "metadata": {
        "colab": {
          "base_uri": "https://localhost:8080/"
        },
        "id": "fIgNZkX0f7QV",
        "outputId": "0056f542-b1b9-45cf-abcd-c82ef0954bdd"
      },
      "execution_count": 28,
      "outputs": [
        {
          "output_type": "execute_result",
          "data": {
            "text/plain": [
              "count    45211.000000\n",
              "mean         7.352569\n",
              "std          5.907227\n",
              "min          0.000000\n",
              "25%          3.000000\n",
              "50%          6.000000\n",
              "75%         10.000000\n",
              "max         21.000000\n",
              "Name: dur, dtype: float64"
            ]
          },
          "metadata": {},
          "execution_count": 28
        }
      ]
    },
    {
      "cell_type": "markdown",
      "source": [
        "Cleaning and encoding number of calls column"
      ],
      "metadata": {
        "id": "3FJ-6IrbNUDO"
      }
    },
    {
      "cell_type": "code",
      "source": [
        "data.num_calls.describe()"
      ],
      "metadata": {
        "colab": {
          "base_uri": "https://localhost:8080/"
        },
        "id": "wjZ5K0ipqEbo",
        "outputId": "cc871e6b-618a-49cb-e7d5-4336bbe980be"
      },
      "execution_count": 29,
      "outputs": [
        {
          "output_type": "execute_result",
          "data": {
            "text/plain": [
              "count    45211.000000\n",
              "mean         2.763841\n",
              "std          3.098021\n",
              "min          1.000000\n",
              "25%          1.000000\n",
              "50%          2.000000\n",
              "75%          3.000000\n",
              "max         63.000000\n",
              "Name: num_calls, dtype: float64"
            ]
          },
          "metadata": {},
          "execution_count": 29
        }
      ]
    },
    {
      "cell_type": "markdown",
      "source": [
        "Treating outeliers. IQR = 3-1 = 2\n",
        "\n",
        "1.5 * IQR = 3. So thresholds are -2 and 6"
      ],
      "metadata": {
        "id": "DSKIFGFUNd7S"
      }
    },
    {
      "cell_type": "code",
      "source": [
        "data.num_calls.clip(0,6,inplace=True)\n"
      ],
      "metadata": {
        "id": "RyYT1lUJqctz"
      },
      "execution_count": 30,
      "outputs": []
    },
    {
      "cell_type": "code",
      "source": [
        "num_calls_conversion_rate = data.groupby('num_calls')['y'].mean()\n",
        "num_calls_sorted = num_calls_conversion_rate.reset_index().sort_values('num_calls')\n",
        "num_calls_sorted.plot(x = \"num_calls\", y = \"y\", kind = \"bar\")"
      ],
      "metadata": {
        "colab": {
          "base_uri": "https://localhost:8080/",
          "height": 462
        },
        "id": "IIqiXbYArEs-",
        "outputId": "fd72ae3d-8ac2-4bc1-cd42-f923c32049bb"
      },
      "execution_count": 31,
      "outputs": [
        {
          "output_type": "execute_result",
          "data": {
            "text/plain": [
              "<Axes: xlabel='num_calls'>"
            ]
          },
          "metadata": {},
          "execution_count": 31
        },
        {
          "output_type": "display_data",
          "data": {
            "text/plain": [
              "<Figure size 640x480 with 1 Axes>"
            ],
            "image/png": "[encoded data removed]"
          },
          "metadata": {}
        }
      ]
    },
    {
      "cell_type": "markdown",
      "source": [
        "Cleaning and encoding previous outcome column"
      ],
      "metadata": {
        "id": "uRlhNc4LNm2E"
      }
    },
    {
      "cell_type": "code",
      "source": [
        "data.prev_outcome.value_counts()"
      ],
      "metadata": {
        "colab": {
          "base_uri": "https://localhost:8080/"
        },
        "id": "1hiBPtJprTzq",
        "outputId": "95eb3a2c-0ad5-47f9-91aa-f715d2020519"
      },
      "execution_count": 32,
      "outputs": [
        {
          "output_type": "execute_result",
          "data": {
            "text/plain": [
              "unknown    36959\n",
              "failure     4901\n",
              "other       1840\n",
              "success     1511\n",
              "Name: prev_outcome, dtype: int64"
            ]
          },
          "metadata": {},
          "execution_count": 32
        }
      ]
    },
    {
      "cell_type": "markdown",
      "source": [
        "Here, unknowns form the largest percentage of data. So we handle them as seperate class"
      ],
      "metadata": {
        "id": "EhwAO1RHNqaG"
      }
    },
    {
      "cell_type": "code",
      "source": [
        "prev_outcome_conversion_rate = data.groupby('prev_outcome')['y'].mean()\n",
        "prev_outcome_sorted = prev_outcome_conversion_rate.reset_index().sort_values('y')\n",
        "prev_outcome_sorted.plot(x = \"prev_outcome\", y = \"y\", kind = \"bar\")"
      ],
      "metadata": {
        "colab": {
          "base_uri": "https://localhost:8080/",
          "height": 516
        },
        "id": "2Z5_3g_TrYr_",
        "outputId": "39a5852f-485a-477a-f758-efc0f9ea47e8"
      },
      "execution_count": 33,
      "outputs": [
        {
          "output_type": "execute_result",
          "data": {
            "text/plain": [
              "<Axes: xlabel='prev_outcome'>"
            ]
          },
          "metadata": {},
          "execution_count": 33
        },
        {
          "output_type": "display_data",
          "data": {
            "text/plain": [
              "<Figure size 640x480 with 1 Axes>"
            ],
            "image/png": "[encoded data removed]"
          },
          "metadata": {}
        }
      ]
    },
    {
      "cell_type": "code",
      "source": [
        "# data.prev_outcome = data.prev_outcome.map({'unknown':1,'failure':2,'other':3,'success':4})"
      ],
      "metadata": {
        "id": "6-6uRJWdrihZ"
      },
      "execution_count": 34,
      "outputs": []
    },
    {
      "cell_type": "markdown",
      "source": [
        "One hot encoding of prev_outcome column"
      ],
      "metadata": {
        "id": "4_3-xhWzNxcn"
      }
    },
    {
      "cell_type": "code",
      "source": [
        "data = pd.concat([data, pd.get_dummies(data.prev_outcome , 'prev_outcome')] , axis = 1)\n",
        "data.drop('prev_outcome', axis = 1, inplace = True)"
      ],
      "metadata": {
        "id": "6ow-NojpDKPO"
      },
      "execution_count": 35,
      "outputs": []
    },
    {
      "cell_type": "markdown",
      "source": [
        "# **Seperating features and target**"
      ],
      "metadata": {
        "id": "f-UnyyyqOtJa"
      }
    },
    {
      "cell_type": "markdown",
      "source": [
        "Here,there is an imbalance in classes of the target variable and hence there is a need to balance the data"
      ],
      "metadata": {
        "id": "lTtgGVI9O7RT"
      }
    },
    {
      "cell_type": "markdown",
      "source": [
        "Seperating features and targets"
      ],
      "metadata": {
        "id": "ghxPZV0PO2tz"
      }
    },
    {
      "cell_type": "code",
      "source": [
        "y = pd.DataFrame(data.y, columns = ['y'])\n",
        "\n",
        "X = data.drop('y', axis = 1)\n"
      ],
      "metadata": {
        "id": "rB7YGppIwrGj"
      },
      "execution_count": 36,
      "outputs": []
    },
    {
      "cell_type": "code",
      "source": [
        "X"
      ],
      "metadata": {
        "colab": {
          "base_uri": "https://localhost:8080/",
          "height": 487
        },
        "id": "2K4fh1Q_IG_V",
        "outputId": "d1c40071-ea22-4f51-e2a7-e01d75b605af"
      },
      "execution_count": 37,
      "outputs": [
        {
          "output_type": "execute_result",
          "data": {
            "text/plain": [
              "       age  job  education_qual  day  mon  dur  num_calls  marital_divorced  \\\n",
              "0       58    8               3    5    1    8          1                 0   \n",
              "1       44    5               2    5    1    5          1                 0   \n",
              "2       33    2               2    5    1    2          1                 0   \n",
              "3       47    1               2    5    1    3          1                 0   \n",
              "4       33    1               2    5    1    6          1                 0   \n",
              "...    ...  ...             ...  ...  ...  ...        ...               ...   \n",
              "45206   51    5               3   17    4   21          3                 0   \n",
              "45207   71   10               1   17    4   15          2                 1   \n",
              "45208   72   10               2   17    4   21          5                 0   \n",
              "45209   57    1               2   17    4   16          4                 0   \n",
              "45210   37    2               2   17    4   12          2                 0   \n",
              "\n",
              "       marital_married  marital_single  call_type_cellular  \\\n",
              "0                    1               0                   0   \n",
              "1                    0               1                   0   \n",
              "2                    1               0                   0   \n",
              "3                    1               0                   0   \n",
              "4                    0               1                   0   \n",
              "...                ...             ...                 ...   \n",
              "45206                1               0                   1   \n",
              "45207                0               0                   1   \n",
              "45208                1               0                   1   \n",
              "45209                1               0                   0   \n",
              "45210                1               0                   1   \n",
              "\n",
              "       call_type_telephone  call_type_unknown  prev_outcome_failure  \\\n",
              "0                        0                  1                     0   \n",
              "1                        0                  1                     0   \n",
              "2                        0                  1                     0   \n",
              "3                        0                  1                     0   \n",
              "4                        0                  1                     0   \n",
              "...                    ...                ...                   ...   \n",
              "45206                    0                  0                     0   \n",
              "45207                    0                  0                     0   \n",
              "45208                    0                  0                     0   \n",
              "45209                    1                  0                     0   \n",
              "45210                    0                  0                     0   \n",
              "\n",
              "       prev_outcome_other  prev_outcome_success  prev_outcome_unknown  \n",
              "0                       0                     0                     1  \n",
              "1                       0                     0                     1  \n",
              "2                       0                     0                     1  \n",
              "3                       0                     0                     1  \n",
              "4                       0                     0                     1  \n",
              "...                   ...                   ...                   ...  \n",
              "45206                   0                     0                     1  \n",
              "45207                   0                     0                     1  \n",
              "45208                   0                     1                     0  \n",
              "45209                   0                     0                     1  \n",
              "45210                   1                     0                     0  \n",
              "\n",
              "[45211 rows x 17 columns]"
            ],
            "text/html": [
              "\n",
              "\n",
              "  <div id=\"df-ac3dd1f5-8177-4422-89ca-b9226d6184b4\">\n",
              "    <div class=\"colab-df-container\">\n",
              "      <div>\n",
              "<style scoped>\n",
              "    .dataframe tbody tr th:only-of-type {\n",
              "        vertical-align: middle;\n",
              "    }\n",
              "\n",
              "    .dataframe tbody tr th {\n",
              "        vertical-align: top;\n",
              "    }\n",
              "\n",
              "    .dataframe thead th {\n",
              "        text-align: right;\n",
              "    }\n",
              "</style>\n",
              "<table border=\"1\" class=\"dataframe\">\n",
              "  <thead>\n",
              "    <tr style=\"text-align: right;\">\n",
              "      <th></th>\n",
              "      <th>age</th>\n",
              "      <th>job</th>\n",
              "      <th>education_qual</th>\n",
              "      <th>day</th>\n",
              "      <th>mon</th>\n",
              "      <th>dur</th>\n",
              "      <th>num_calls</th>\n",
              "      <th>marital_divorced</th>\n",
              "      <th>marital_married</th>\n",
              "      <th>marital_single</th>\n",
              "      <th>call_type_cellular</th>\n",
              "      <th>call_type_telephone</th>\n",
              "      <th>call_type_unknown</th>\n",
              "      <th>prev_outcome_failure</th>\n",
              "      <th>prev_outcome_other</th>\n",
              "      <th>prev_outcome_success</th>\n",
              "      <th>prev_outcome_unknown</th>\n",
              "    </tr>\n",
              "  </thead>\n",
              "  <tbody>\n",
              "    <tr>\n",
              "      <th>0</th>\n",
              "      <td>58</td>\n",
              "      <td>8</td>\n",
              "      <td>3</td>\n",
              "      <td>5</td>\n",
              "      <td>1</td>\n",
              "      <td>8</td>\n",
              "      <td>1</td>\n",
              "      <td>0</td>\n",
              "      <td>1</td>\n",
              "      <td>0</td>\n",
              "      <td>0</td>\n",
              "      <td>0</td>\n",
              "      <td>1</td>\n",
              "      <td>0</td>\n",
              "      <td>0</td>\n",
              "      <td>0</td>\n",
              "      <td>1</td>\n",
              "    </tr>\n",
              "    <tr>\n",
              "      <th>1</th>\n",
              "      <td>44</td>\n",
              "      <td>5</td>\n",
              "      <td>2</td>\n",
              "      <td>5</td>\n",
              "      <td>1</td>\n",
              "      <td>5</td>\n",
              "      <td>1</td>\n",
              "      <td>0</td>\n",
              "      <td>0</td>\n",
              "      <td>1</td>\n",
              "      <td>0</td>\n",
              "      <td>0</td>\n",
              "      <td>1</td>\n",
              "      <td>0</td>\n",
              "      <td>0</td>\n",
              "      <td>0</td>\n",
              "      <td>1</td>\n",
              "    </tr>\n",
              "    <tr>\n",
              "      <th>2</th>\n",
              "      <td>33</td>\n",
              "      <td>2</td>\n",
              "      <td>2</td>\n",
              "      <td>5</td>\n",
              "      <td>1</td>\n",
              "      <td>2</td>\n",
              "      <td>1</td>\n",
              "      <td>0</td>\n",
              "      <td>1</td>\n",
              "      <td>0</td>\n",
              "      <td>0</td>\n",
              "      <td>0</td>\n",
              "      <td>1</td>\n",
              "      <td>0</td>\n",
              "      <td>0</td>\n",
              "      <td>0</td>\n",
              "      <td>1</td>\n",
              "    </tr>\n",
              "    <tr>\n",
              "      <th>3</th>\n",
              "      <td>47</td>\n",
              "      <td>1</td>\n",
              "      <td>2</td>\n",
              "      <td>5</td>\n",
              "      <td>1</td>\n",
              "      <td>3</td>\n",
              "      <td>1</td>\n",
              "      <td>0</td>\n",
              "      <td>1</td>\n",
              "      <td>0</td>\n",
              "      <td>0</td>\n",
              "      <td>0</td>\n",
              "      <td>1</td>\n",
              "      <td>0</td>\n",
              "      <td>0</td>\n",
              "      <td>0</td>\n",
              "      <td>1</td>\n",
              "    </tr>\n",
              "    <tr>\n",
              "      <th>4</th>\n",
              "      <td>33</td>\n",
              "      <td>1</td>\n",
              "      <td>2</td>\n",
              "      <td>5</td>\n",
              "      <td>1</td>\n",
              "      <td>6</td>\n",
              "      <td>1</td>\n",
              "      <td>0</td>\n",
              "      <td>0</td>\n",
              "      <td>1</td>\n",
              "      <td>0</td>\n",
              "      <td>0</td>\n",
              "      <td>1</td>\n",
              "      <td>0</td>\n",
              "      <td>0</td>\n",
              "      <td>0</td>\n",
              "      <td>1</td>\n",
              "    </tr>\n",
              "    <tr>\n",
              "      <th>...</th>\n",
              "      <td>...</td>\n",
              "      <td>...</td>\n",
              "      <td>...</td>\n",
              "      <td>...</td>\n",
              "      <td>...</td>\n",
              "      <td>...</td>\n",
              "      <td>...</td>\n",
              "      <td>...</td>\n",
              "      <td>...</td>\n",
              "      <td>...</td>\n",
              "      <td>...</td>\n",
              "      <td>...</td>\n",
              "      <td>...</td>\n",
              "      <td>...</td>\n",
              "      <td>...</td>\n",
              "      <td>...</td>\n",
              "      <td>...</td>\n",
              "    </tr>\n",
              "    <tr>\n",
              "      <th>45206</th>\n",
              "      <td>51</td>\n",
              "      <td>5</td>\n",
              "      <td>3</td>\n",
              "      <td>17</td>\n",
              "      <td>4</td>\n",
              "      <td>21</td>\n",
              "      <td>3</td>\n",
              "      <td>0</td>\n",
              "      <td>1</td>\n",
              "      <td>0</td>\n",
              "      <td>1</td>\n",
              "      <td>0</td>\n",
              "      <td>0</td>\n",
              "      <td>0</td>\n",
              "      <td>0</td>\n",
              "      <td>0</td>\n",
              "      <td>1</td>\n",
              "    </tr>\n",
              "    <tr>\n",
              "      <th>45207</th>\n",
              "      <td>71</td>\n",
              "      <td>10</td>\n",
              "      <td>1</td>\n",
              "      <td>17</td>\n",
              "      <td>4</td>\n",
              "      <td>15</td>\n",
              "      <td>2</td>\n",
              "      <td>1</td>\n",
              "      <td>0</td>\n",
              "      <td>0</td>\n",
              "      <td>1</td>\n",
              "      <td>0</td>\n",
              "      <td>0</td>\n",
              "      <td>0</td>\n",
              "      <td>0</td>\n",
              "      <td>0</td>\n",
              "      <td>1</td>\n",
              "    </tr>\n",
              "    <tr>\n",
              "      <th>45208</th>\n",
              "      <td>72</td>\n",
              "      <td>10</td>\n",
              "      <td>2</td>\n",
              "      <td>17</td>\n",
              "      <td>4</td>\n",
              "      <td>21</td>\n",
              "      <td>5</td>\n",
              "      <td>0</td>\n",
              "      <td>1</td>\n",
              "      <td>0</td>\n",
              "      <td>1</td>\n",
              "      <td>0</td>\n",
              "      <td>0</td>\n",
              "      <td>0</td>\n",
              "      <td>0</td>\n",
              "      <td>1</td>\n",
              "      <td>0</td>\n",
              "    </tr>\n",
              "    <tr>\n",
              "      <th>45209</th>\n",
              "      <td>57</td>\n",
              "      <td>1</td>\n",
              "      <td>2</td>\n",
              "      <td>17</td>\n",
              "      <td>4</td>\n",
              "      <td>16</td>\n",
              "      <td>4</td>\n",
              "      <td>0</td>\n",
              "      <td>1</td>\n",
              "      <td>0</td>\n",
              "      <td>0</td>\n",
              "      <td>1</td>\n",
              "      <td>0</td>\n",
              "      <td>0</td>\n",
              "      <td>0</td>\n",
              "      <td>0</td>\n",
              "      <td>1</td>\n",
              "    </tr>\n",
              "    <tr>\n",
              "      <th>45210</th>\n",
              "      <td>37</td>\n",
              "      <td>2</td>\n",
              "      <td>2</td>\n",
              "      <td>17</td>\n",
              "      <td>4</td>\n",
              "      <td>12</td>\n",
              "      <td>2</td>\n",
              "      <td>0</td>\n",
              "      <td>1</td>\n",
              "      <td>0</td>\n",
              "      <td>1</td>\n",
              "      <td>0</td>\n",
              "      <td>0</td>\n",
              "      <td>0</td>\n",
              "      <td>1</td>\n",
              "      <td>0</td>\n",
              "      <td>0</td>\n",
              "    </tr>\n",
              "  </tbody>\n",
              "</table>\n",
              "<p>45211 rows × 17 columns</p>\n",
              "</div>\n",
              "      <button class=\"colab-df-convert\" onclick=\"convertToInteractive('df-ac3dd1f5-8177-4422-89ca-b9226d6184b4')\"\n",
              "              title=\"Convert this dataframe to an interactive table.\"\n",
              "              style=\"display:none;\">\n",
              "\n",
              "  <svg xmlns=\"http://www.w3.org/2000/svg\" height=\"24px\"viewBox=\"0 0 24 24\"\n",
              "       width=\"24px\">\n",
              "    <path d=\"M0 0h24v24H0V0z\" fill=\"none\"/>\n",
              "    <path d=\"M18.56 5.44l.94 2.06.94-2.06 2.06-.94-2.06-.94-.94-2.06-.94 2.06-2.06.94zm-11 1L8.5 8.5l.94-2.06 2.06-.94-2.06-.94L8.5 2.5l-.94 2.06-2.06.94zm10 10l.94 2.06.94-2.06 2.06-.94-2.06-.94-.94-2.06-.94 2.06-2.06.94z\"/><path d=\"M17.41 7.96l-1.37-1.37c-.4-.4-.92-.59-1.43-.59-.52 0-1.04.2-1.43.59L10.3 9.45l-7.72 7.72c-.78.78-.78 2.05 0 2.83L4 21.41c.39.39.9.59 1.41.59.51 0 1.02-.2 1.41-.59l7.78-7.78 2.81-2.81c.8-.78.8-2.07 0-2.86zM5.41 20L4 18.59l7.72-7.72 1.47 1.35L5.41 20z\"/>\n",
              "  </svg>\n",
              "      </button>\n",
              "\n",
              "\n",
              "\n",
              "    <div id=\"df-8ebd0c91-be58-4dbf-b62e-f53cb1561469\">\n",
              "      <button class=\"colab-df-quickchart\" onclick=\"quickchart('df-8ebd0c91-be58-4dbf-b62e-f53cb1561469')\"\n",
              "              title=\"Suggest charts.\"\n",
              "              style=\"display:none;\">\n",
              "\n",
              "<svg xmlns=\"http://www.w3.org/2000/svg\" height=\"24px\"viewBox=\"0 0 24 24\"\n",
              "     width=\"24px\">\n",
              "    <g>\n",
              "        <path d=\"M19 3H5c-1.1 0-2 .9-2 2v14c0 1.1.9 2 2 2h14c1.1 0 2-.9 2-2V5c0-1.1-.9-2-2-2zM9 17H7v-7h2v7zm4 0h-2V7h2v10zm4 0h-2v-4h2v4z\"/>\n",
              "    </g>\n",
              "</svg>\n",
              "      </button>\n",
              "    </div>\n",
              "\n",
              "<style>\n",
              "  .colab-df-quickchart {\n",
              "    background-color: #E8F0FE;\n",
              "    border: none;\n",
              "    border-radius: 50%;\n",
              "    cursor: pointer;\n",
              "    display: none;\n",
              "    fill: #1967D2;\n",
              "    height: 32px;\n",
              "    padding: 0 0 0 0;\n",
              "    width: 32px;\n",
              "  }\n",
              "\n",
              "  .colab-df-quickchart:hover {\n",
              "    background-color: #E2EBFA;\n",
              "    box-shadow: 0px 1px 2px rgba(60, 64, 67, 0.3), 0px 1px 3px 1px rgba(60, 64, 67, 0.15);\n",
              "    fill: #174EA6;\n",
              "  }\n",
              "\n",
              "  [theme=dark] .colab-df-quickchart {\n",
              "    background-color: #3B4455;\n",
              "    fill: #D2E3FC;\n",
              "  }\n",
              "\n",
              "  [theme=dark] .colab-df-quickchart:hover {\n",
              "    background-color: #434B5C;\n",
              "    box-shadow: 0px 1px 3px 1px rgba(0, 0, 0, 0.15);\n",
              "    filter: drop-shadow(0px 1px 2px rgba(0, 0, 0, 0.3));\n",
              "    fill: #FFFFFF;\n",
              "  }\n",
              "</style>\n",
              "\n",
              "    <script>\n",
              "      async function quickchart(key) {\n",
              "        const containerElement = document.querySelector('#' + key);\n",
              "        const charts = await google.colab.kernel.invokeFunction(\n",
              "            'suggestCharts', [key], {});\n",
              "      }\n",
              "    </script>\n",
              "\n",
              "      <script>\n",
              "\n",
              "function displayQuickchartButton(domScope) {\n",
              "  let quickchartButtonEl =\n",
              "    domScope.querySelector('#df-8ebd0c91-be58-4dbf-b62e-f53cb1561469 button.colab-df-quickchart');\n",
              "  quickchartButtonEl.style.display =\n",
              "    google.colab.kernel.accessAllowed ? 'block' : 'none';\n",
              "}\n",
              "\n",
              "        displayQuickchartButton(document);\n",
              "      </script>\n",
              "      <style>\n",
              "    .colab-df-container {\n",
              "      display:flex;\n",
              "      flex-wrap:wrap;\n",
              "      gap: 12px;\n",
              "    }\n",
              "\n",
              "    .colab-df-convert {\n",
              "      background-color: #E8F0FE;\n",
              "      border: none;\n",
              "      border-radius: 50%;\n",
              "      cursor: pointer;\n",
              "      display: none;\n",
              "      fill: #1967D2;\n",
              "      height: 32px;\n",
              "      padding: 0 0 0 0;\n",
              "      width: 32px;\n",
              "    }\n",
              "\n",
              "    .colab-df-convert:hover {\n",
              "      background-color: #E2EBFA;\n",
              "      box-shadow: 0px 1px 2px rgba(60, 64, 67, 0.3), 0px 1px 3px 1px rgba(60, 64, 67, 0.15);\n",
              "      fill: #174EA6;\n",
              "    }\n",
              "\n",
              "    [theme=dark] .colab-df-convert {\n",
              "      background-color: #3B4455;\n",
              "      fill: #D2E3FC;\n",
              "    }\n",
              "\n",
              "    [theme=dark] .colab-df-convert:hover {\n",
              "      background-color: #434B5C;\n",
              "      box-shadow: 0px 1px 3px 1px rgba(0, 0, 0, 0.15);\n",
              "      filter: drop-shadow(0px 1px 2px rgba(0, 0, 0, 0.3));\n",
              "      fill: #FFFFFF;\n",
              "    }\n",
              "  </style>\n",
              "\n",
              "      <script>\n",
              "        const buttonEl =\n",
              "          document.querySelector('#df-ac3dd1f5-8177-4422-89ca-b9226d6184b4 button.colab-df-convert');\n",
              "        buttonEl.style.display =\n",
              "          google.colab.kernel.accessAllowed ? 'block' : 'none';\n",
              "\n",
              "        async function convertToInteractive(key) {\n",
              "          const element = document.querySelector('#df-ac3dd1f5-8177-4422-89ca-b9226d6184b4');\n",
              "          const dataTable =\n",
              "            await google.colab.kernel.invokeFunction('convertToInteractive',\n",
              "                                                     [key], {});\n",
              "          if (!dataTable) return;\n",
              "\n",
              "          const docLinkHtml = 'Like what you see? Visit the ' +\n",
              "            '<a target=\"_blank\" href=https://colab.research.google.com/notebooks/data_table.ipynb>data table notebook</a>'\n",
              "            + ' to learn more about interactive tables.';\n",
              "          element.innerHTML = '';\n",
              "          dataTable['output_type'] = 'display_data';\n",
              "          await google.colab.output.renderOutput(dataTable, element);\n",
              "          const docLink = document.createElement('div');\n",
              "          docLink.innerHTML = docLinkHtml;\n",
              "          element.appendChild(docLink);\n",
              "        }\n",
              "      </script>\n",
              "    </div>\n",
              "  </div>\n"
            ]
          },
          "metadata": {},
          "execution_count": 37
        }
      ]
    },
    {
      "cell_type": "markdown",
      "source": [
        "# Scaling the data"
      ],
      "metadata": {
        "id": "nFMhLdpVPh7Z"
      }
    },
    {
      "cell_type": "code",
      "source": [
        "from sklearn.preprocessing import StandardScaler\n",
        "\n",
        "scaler = StandardScaler()\n",
        "X_std = pd.DataFrame(scaler.fit_transform(X), columns = X.columns)"
      ],
      "metadata": {
        "id": "ZVqicA1vp2bH"
      },
      "execution_count": 38,
      "outputs": []
    },
    {
      "cell_type": "markdown",
      "source": [
        "# Splitting data"
      ],
      "metadata": {
        "id": "GjxSKiFwRvGC"
      }
    },
    {
      "cell_type": "code",
      "source": [
        "from sklearn.model_selection import train_test_split #import the required function\n",
        "# X_train, X_test, y_train, y_test = train_test_split(X_std, y, test_size=0.25, stratify=y, random_state  = 1)\n",
        "from statistics import mean\n",
        "X_train, X_test, y_train, y_test = train_test_split(X_std, y, test_size=0.25, stratify=y, random_state  = 1)\n",
        "X_train.reset_index(inplace = True)\n",
        "X_train.drop('index',axis = 1, inplace = True)\n",
        "y_train.reset_index(inplace = True)\n",
        "y_train.drop('index',axis = 1, inplace = True)"
      ],
      "metadata": {
        "id": "Qj162XEBxW16"
      },
      "execution_count": 39,
      "outputs": []
    },
    {
      "cell_type": "markdown",
      "source": [
        "# Scaling data"
      ],
      "metadata": {
        "id": "4bvqftPzR0nl"
      }
    },
    {
      "cell_type": "code",
      "source": [
        "data.y.value_counts()"
      ],
      "metadata": {
        "colab": {
          "base_uri": "https://localhost:8080/"
        },
        "id": "xJsAypLursaq",
        "outputId": "a625507c-40a6-4da6-c422-9ddb2fb05a6a"
      },
      "execution_count": 40,
      "outputs": [
        {
          "output_type": "execute_result",
          "data": {
            "text/plain": [
              "0    39922\n",
              "1     5289\n",
              "Name: y, dtype: int64"
            ]
          },
          "metadata": {},
          "execution_count": 40
        }
      ]
    },
    {
      "cell_type": "markdown",
      "source": [
        "There is an imbalance in the classes of the data and it has to be balanced through down sampling and up sampling"
      ],
      "metadata": {
        "id": "xWPTgo4bR3oV"
      }
    },
    {
      "cell_type": "code",
      "source": [
        "from imblearn.combine import SMOTEENN\n",
        "smt = SMOTEENN(sampling_strategy='all')\n",
        "\n",
        "X_smt, y_smt = smt.fit_resample(X_train, y_train)"
      ],
      "metadata": {
        "id": "QrgNhLOlwZ0o"
      },
      "execution_count": 41,
      "outputs": []
    },
    {
      "cell_type": "code",
      "source": [
        "y_smt.value_counts()"
      ],
      "metadata": {
        "colab": {
          "base_uri": "https://localhost:8080/"
        },
        "id": "Qut-LrbusBrW",
        "outputId": "1b1fbbd3-f40a-4d78-a374-4804f4b5210c"
      },
      "execution_count": 42,
      "outputs": [
        {
          "output_type": "execute_result",
          "data": {
            "text/plain": [
              "y\n",
              "1    28333\n",
              "0    24248\n",
              "dtype: int64"
            ]
          },
          "metadata": {},
          "execution_count": 42
        }
      ]
    },
    {
      "cell_type": "markdown",
      "source": [
        "Sample data has almost equal number of element in both the classes"
      ],
      "metadata": {
        "id": "r6JuAq7ASANS"
      }
    },
    {
      "cell_type": "markdown",
      "source": [
        "# Function for custom cross validation"
      ],
      "metadata": {
        "id": "w8m47ajQSFye"
      }
    },
    {
      "cell_type": "markdown",
      "source": [
        "Sampling before cross validation will lead to a lot of duplicates. So a custom function is written to sample the data after the data is split for cross validation"
      ],
      "metadata": {
        "id": "vacCb6TTSJsR"
      }
    },
    {
      "cell_type": "code",
      "source": [
        "from sklearn.metrics import accuracy_score, f1_score\n",
        "from sklearn.tree import DecisionTreeClassifier\n",
        "from sklearn.model_selection import cross_val_score\n",
        "import numpy as np\n",
        "from sklearn.model_selection import StratifiedKFold,KFold\n"
      ],
      "metadata": {
        "id": "uwZqxAQ7xef7"
      },
      "execution_count": 43,
      "outputs": []
    },
    {
      "cell_type": "markdown",
      "source": [
        "The below function will return a list of cross validation scores. The scores used by default in this function is f1 score. We are using the same function for scoring all models"
      ],
      "metadata": {
        "id": "4mftYzkGSWr-"
      }
    },
    {
      "cell_type": "code",
      "source": [
        "def cross_validate_custom(model,n,X_tr,y_tr):\n",
        "  skf = StratifiedKFold(n_splits=n)\n",
        "  f1_mean = []\n",
        "  for train_data_index,val_data_index in skf.split(X_tr,y_tr):\n",
        "    X_train_cv,y_train_cv = X_tr.iloc[train_data_index], y_tr.iloc[train_data_index]\n",
        "    X_val_cv, y_val_cv = X_tr.iloc[val_data_index],y_tr.iloc[val_data_index]\n",
        "    X_smt_cv,y_smt_cv = smt.fit_resample(X_train_cv, y_train_cv)\n",
        "    model.fit(X_smt_cv, y_smt_cv.values.ravel())\n",
        "    y_pred = model.predict(X_val_cv)\n",
        "    f1 = f1_score(y_val_cv, y_pred)\n",
        "    f1_mean.append(f1)\n",
        "  return f1_mean\n"
      ],
      "metadata": {
        "id": "97TeZgqwyIEg"
      },
      "execution_count": 44,
      "outputs": []
    },
    {
      "cell_type": "markdown",
      "source": [
        "# Decision tree classifier"
      ],
      "metadata": {
        "id": "1WDxch5ASlGW"
      }
    },
    {
      "cell_type": "code",
      "source": [
        "for depth in [1,2,3,4,5,6,7,8,9,10,15,20,25,30]:\n",
        "  dt = DecisionTreeClassifier(max_depth=depth)\n",
        "  f1_mean = cross_validate_custom(dt,8,X_train,y_train)\n",
        "  print(f\"depth : {depth} cv score : {mean(f1_mean)}\")"
      ],
      "metadata": {
        "id": "OQlUxnOHyPU4",
        "outputId": "ffa30e5a-83d0-468d-eddf-2b3e9b2baf90",
        "colab": {
          "base_uri": "https://localhost:8080/"
        }
      },
      "execution_count": 45,
      "outputs": [
        {
          "output_type": "stream",
          "name": "stdout",
          "text": [
            "depth : 1 cv score : 0.3514876553296896\n",
            "depth : 2 cv score : 0.3419813049229075\n",
            "depth : 3 cv score : 0.4158440700203982\n",
            "depth : 4 cv score : 0.42364285810152985\n",
            "depth : 5 cv score : 0.5001516675302171\n",
            "depth : 6 cv score : 0.4686481625007212\n",
            "depth : 7 cv score : 0.49832980172550134\n",
            "depth : 8 cv score : 0.5126448100286778\n",
            "depth : 9 cv score : 0.5202966517428791\n",
            "depth : 10 cv score : 0.5309859030490806\n",
            "depth : 15 cv score : 0.5510804008898871\n",
            "depth : 20 cv score : 0.5473299763912692\n",
            "depth : 25 cv score : 0.5431517935933317\n",
            "depth : 30 cv score : 0.5441368735169803\n"
          ]
        }
      ]
    },
    {
      "cell_type": "code",
      "source": [
        "dt = DecisionTreeClassifier(max_depth=15)\n",
        "X_smt, y_smt = smt.fit_resample(X_train, y_train)\n",
        "dt.fit(X_smt,y_smt)\n",
        "y_pred = dt.predict(X_test)\n",
        "f1 = f1_score(y_test, y_pred)\n",
        "acc = accuracy_score(y_test, y_pred)\n",
        "\n",
        "print(\"Test set accuracy: {:.2f}\".format(acc))\n",
        "print(\"Test set f1-score: {:.2f}\".format(f1))"
      ],
      "metadata": {
        "colab": {
          "base_uri": "https://localhost:8080/"
        },
        "id": "T7aAURVVMULf",
        "outputId": "3c18d7de-d8f8-46ca-b8a2-6f582786ee81"
      },
      "execution_count": 46,
      "outputs": [
        {
          "output_type": "stream",
          "name": "stdout",
          "text": [
            "Test set accuracy: 0.85\n",
            "Test set f1-score: 0.55\n"
          ]
        }
      ]
    },
    {
      "cell_type": "code",
      "source": [
        "from sklearn.neighbors import KNeighborsClassifier\n",
        "for i in [1,3,5,7,9,15,21,25]:\n",
        "  knn = KNeighborsClassifier(n_neighbors=i) #it will initialise the model with @neighbours as k\n",
        "  f1_mean = cross_validate_custom(knn,8,X_train,y_train)\n",
        "  print(\"K  : \", i, \" Cross val score : \" ,mean(f1_mean))"
      ],
      "metadata": {
        "colab": {
          "base_uri": "https://localhost:8080/"
        },
        "id": "Uv40pVgp0RhQ",
        "outputId": "b01492a1-8b40-41b5-a96e-730e300a9fd2"
      },
      "execution_count": 49,
      "outputs": [
        {
          "output_type": "stream",
          "name": "stdout",
          "text": [
            "K  :  1  Cross val score :  0.5065525281783654\n",
            "K  :  3  Cross val score :  0.5003875432974826\n",
            "K  :  5  Cross val score :  0.49626164900575026\n",
            "K  :  7  Cross val score :  0.49373840142599884\n",
            "K  :  9  Cross val score :  0.4931359330680246\n",
            "K  :  15  Cross val score :  0.49176551871337915\n",
            "K  :  21  Cross val score :  0.4920815544670952\n",
            "K  :  25  Cross val score :  0.4911859870590331\n"
          ]
        }
      ]
    },
    {
      "cell_type": "code",
      "source": [
        "knn = KNeighborsClassifier(n_neighbors=1) #it will initialise the model with @neighbours as k\n",
        "knn.fit(X_smt, y_smt) # train the model\n",
        "\n",
        "y_pred = knn.predict(X_test)\n",
        "acc = accuracy_score(y_test, y_pred)\n",
        "f1 = f1_score(y_test, y_pred)\n",
        "\n",
        "print(\"Test set accuracy: {:.2f}\".format(acc))\n",
        "print(\"Test set f1-score: {:.2f}\".format(f1))"
      ],
      "metadata": {
        "colab": {
          "base_uri": "https://localhost:8080/"
        },
        "id": "Kl8gmI5v1vwn",
        "outputId": "92779752-8d7e-4984-f207-7900714d16ac"
      },
      "execution_count": 50,
      "outputs": [
        {
          "output_type": "stream",
          "name": "stderr",
          "text": [
            "/usr/local/lib/python3.10/dist-packages/sklearn/neighbors/_classification.py:215: DataConversionWarning: A column-vector y was passed when a 1d array was expected. Please change the shape of y to (n_samples,), for example using ravel().\n",
            "  return self._fit(X, y)\n"
          ]
        },
        {
          "output_type": "stream",
          "name": "stdout",
          "text": [
            "Test set accuracy: 0.83\n",
            "Test set f1-score: 0.50\n"
          ]
        }
      ]
    },
    {
      "cell_type": "code",
      "source": [
        "from sklearn.ensemble import RandomForestClassifier\n",
        "\n",
        "for depth in [3,5,7,9,10,15,20,30]:\n",
        "  for estim in [30,50,70]:\n",
        "    clf = RandomForestClassifier(max_depth=depth, random_state=0, n_estimators = estim)\n",
        "    f1_mean = cross_validate_custom(clf,8,X_train,y_train)\n",
        "    print(f\"depth: {depth}, trees: {estim}, score : {mean(f1_mean)} \")\n",
        "\n"
      ],
      "metadata": {
        "colab": {
          "base_uri": "https://localhost:8080/"
        },
        "id": "gWpzB8XS286A",
        "outputId": "4aaf5117-9386-407d-c4bb-a7abcdd15a0b"
      },
      "execution_count": 51,
      "outputs": [
        {
          "output_type": "stream",
          "name": "stdout",
          "text": [
            "depth: 3, trees: 30, score : 0.4651181782824267 \n",
            "depth: 3, trees: 50, score : 0.45030929443924445 \n",
            "depth: 3, trees: 70, score : 0.44626505777302733 \n",
            "depth: 5, trees: 30, score : 0.48624623430934844 \n",
            "depth: 5, trees: 50, score : 0.4824693187035551 \n",
            "depth: 5, trees: 70, score : 0.4843740154671629 \n",
            "depth: 7, trees: 30, score : 0.5171158608964193 \n",
            "depth: 7, trees: 50, score : 0.5144943866146399 \n",
            "depth: 7, trees: 70, score : 0.5140706157323025 \n",
            "depth: 9, trees: 30, score : 0.5383680965478892 \n",
            "depth: 9, trees: 50, score : 0.5363625477756329 \n",
            "depth: 9, trees: 70, score : 0.5364271809054216 \n",
            "depth: 10, trees: 30, score : 0.5450913572861856 \n",
            "depth: 10, trees: 50, score : 0.5434996241353444 \n",
            "depth: 10, trees: 70, score : 0.5481768617230545 \n",
            "depth: 15, trees: 30, score : 0.5703413152629906 \n",
            "depth: 15, trees: 50, score : 0.5719805957549169 \n",
            "depth: 15, trees: 70, score : 0.5729078211966326 \n",
            "depth: 20, trees: 30, score : 0.5767105675068727 \n",
            "depth: 20, trees: 50, score : 0.5783690550662055 \n",
            "depth: 20, trees: 70, score : 0.5786804974798215 \n",
            "depth: 30, trees: 30, score : 0.5785227460529883 \n",
            "depth: 30, trees: 50, score : 0.5800489522569613 \n",
            "depth: 30, trees: 70, score : 0.5794243225404856 \n"
          ]
        }
      ]
    },
    {
      "cell_type": "code",
      "source": [
        "clf = RandomForestClassifier(max_depth=30, random_state=0, n_estimators =50 )\n",
        "clf.fit(X_smt, y_smt.values.ravel())\n",
        "\n",
        "y_pred = clf.predict(X_test)\n",
        "acc = accuracy_score(y_test, y_pred)\n",
        "f1 = f1_score(y_test, y_pred)\n",
        "\n",
        "print(\"Test set accuracy: {:.2f}\".format(acc))\n",
        "print(\"Test set f1-score: {:.2f}\".format(f1))"
      ],
      "metadata": {
        "colab": {
          "base_uri": "https://localhost:8080/"
        },
        "id": "By6FnHxo3iGF",
        "outputId": "9e97cffb-3c95-4a66-957d-fb3048d575f7"
      },
      "execution_count": 52,
      "outputs": [
        {
          "output_type": "stream",
          "name": "stdout",
          "text": [
            "Test set accuracy: 0.87\n",
            "Test set f1-score: 0.59\n"
          ]
        }
      ]
    },
    {
      "cell_type": "code",
      "source": [
        "from xgboost import XGBClassifier\n",
        "\n",
        "for depth in [5,7,9,10,15,20,25,30]:\n",
        "  for estim in [30,50,70]:\n",
        "    xgb = XGBClassifier(max_depth=depth, random_state=0, n_estimators = estim)\n",
        "    f1_mean = cross_validate_custom(xgb,8,X_train,y_train)\n",
        "    print(f\"depth: {depth}, trees: {estim}, score : {mean(f1_mean)} \")\n"
      ],
      "metadata": {
        "id": "2By3rA9BqlhX",
        "colab": {
          "base_uri": "https://localhost:8080/"
        },
        "outputId": "520f73cd-af25-448e-9692-a4c8a8e55010"
      },
      "execution_count": 53,
      "outputs": [
        {
          "output_type": "stream",
          "name": "stdout",
          "text": [
            "depth: 5, trees: 30, score : 0.5760331093265423 \n",
            "depth: 5, trees: 50, score : 0.5958470646738616 \n",
            "depth: 5, trees: 70, score : 0.6036271933335222 \n",
            "depth: 7, trees: 30, score : 0.593410102479995 \n",
            "depth: 7, trees: 50, score : 0.601940937506496 \n",
            "depth: 7, trees: 70, score : 0.6071867307997703 \n",
            "depth: 9, trees: 30, score : 0.5944441206958087 \n",
            "depth: 9, trees: 50, score : 0.5998842046652174 \n",
            "depth: 9, trees: 70, score : 0.6002076672302707 \n",
            "depth: 10, trees: 30, score : 0.5961226879301582 \n",
            "depth: 10, trees: 50, score : 0.5982833907896233 \n",
            "depth: 10, trees: 70, score : 0.5983548299636885 \n",
            "depth: 15, trees: 30, score : 0.5966289558346688 \n",
            "depth: 15, trees: 50, score : 0.5966694805258136 \n",
            "depth: 15, trees: 70, score : 0.598342819628828 \n",
            "depth: 20, trees: 30, score : 0.5982946307162011 \n",
            "depth: 20, trees: 50, score : 0.5968104842524773 \n",
            "depth: 20, trees: 70, score : 0.5967015577312709 \n",
            "depth: 25, trees: 30, score : 0.5971629928475902 \n",
            "depth: 25, trees: 50, score : 0.5990586857963839 \n",
            "depth: 25, trees: 70, score : 0.5960214692587533 \n",
            "depth: 30, trees: 30, score : 0.5927458138220245 \n",
            "depth: 30, trees: 50, score : 0.5965510446076093 \n",
            "depth: 30, trees: 70, score : 0.592596109656086 \n"
          ]
        }
      ]
    },
    {
      "cell_type": "code",
      "source": [
        "xgb = XGBClassifier(max_depth=7, random_state=0, n_estimators =70 )\n",
        "xgb.fit(X_smt, y_smt.values.ravel())\n",
        "\n",
        "y_pred = xgb.predict(X_test)\n",
        "acc = accuracy_score(y_test, y_pred)\n",
        "f1 = f1_score(y_test, y_pred)\n",
        "\n",
        "print(\"Test set accuracy: {:.2f}\".format(acc))\n",
        "print(\"Test set f1-score: {:.2f}\".format(f1))"
      ],
      "metadata": {
        "colab": {
          "base_uri": "https://localhost:8080/"
        },
        "id": "i2Mh0atfahrF",
        "outputId": "2719951d-bb6b-43f3-96f3-af0a19658514"
      },
      "execution_count": 54,
      "outputs": [
        {
          "output_type": "stream",
          "name": "stdout",
          "text": [
            "Test set accuracy: 0.88\n",
            "Test set f1-score: 0.60\n"
          ]
        }
      ]
    },
    {
      "cell_type": "code",
      "source": [
        "from xgboost import plot_importance\n",
        "from matplotlib import pyplot\n",
        "plot_importance(xgb)\n",
        "pyplot.show()"
      ],
      "metadata": {
        "colab": {
          "base_uri": "https://localhost:8080/",
          "height": 472
        },
        "id": "qmQR7JUT77Qz",
        "outputId": "52f1ed34-99d1-4ba1-ffc0-01979237d63e"
      },
      "execution_count": 58,
      "outputs": [
        {
          "output_type": "display_data",
          "data": {
            "text/plain": [
              "<Figure size 640x480 with 1 Axes>"
            ],
            "image/png": "[encoded data removed]"
          },
          "metadata": {}
        }
      ]
    },
    {
      "cell_type": "code",
      "source": [
        "import pickle\n",
        "\n",
        "pickle.dump(xgb,open('model.pkl','wb'))"
      ],
      "metadata": {
        "id": "rrvVQ_EJx0rI"
      },
      "execution_count": 59,
      "outputs": []
    },
    {
      "cell_type": "code",
      "source": [
        "pickle.dump(scaler,open('scaler.pkl','wb'))"
      ],
      "metadata": {
        "id": "hO_vA78__hUG"
      },
      "execution_count": 62,
      "outputs": []
    }
  ]
}