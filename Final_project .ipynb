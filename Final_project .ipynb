{
  "cells": [
    {
      "cell_type": "markdown",
      "metadata": {
        "id": "Zf96h4k5OAhi"
      },
      "source": [
        "## **Reading data and storing in pandas dataframe**"
      ]
    },
    {
      "cell_type": "code",
      "execution_count": 6,
      "metadata": {
        "colab": {
          "base_uri": "https://localhost:8080/",
          "height": 423
        },
        "id": "Ram1-lZiNm8p",
        "outputId": "04620458-7e35-4184-baea-abce994306b6"
      },
      "outputs": [
        {
          "output_type": "execute_result",
          "data": {
            "text/plain": [
              "       age           job   marital education_qual  call_type  day  mon   dur  \\\n",
              "0       58    management   married       tertiary    unknown    5  may   261   \n",
              "1       44    technician    single      secondary    unknown    5  may   151   \n",
              "2       33  entrepreneur   married      secondary    unknown    5  may    76   \n",
              "3       47   blue-collar   married        unknown    unknown    5  may    92   \n",
              "4       33       unknown    single        unknown    unknown    5  may   198   \n",
              "...    ...           ...       ...            ...        ...  ...  ...   ...   \n",
              "45206   51    technician   married       tertiary   cellular   17  nov   977   \n",
              "45207   71       retired  divorced        primary   cellular   17  nov   456   \n",
              "45208   72       retired   married      secondary   cellular   17  nov  1127   \n",
              "45209   57   blue-collar   married      secondary  telephone   17  nov   508   \n",
              "45210   37  entrepreneur   married      secondary   cellular   17  nov   361   \n",
              "\n",
              "       num_calls prev_outcome    y  \n",
              "0              1      unknown   no  \n",
              "1              1      unknown   no  \n",
              "2              1      unknown   no  \n",
              "3              1      unknown   no  \n",
              "4              1      unknown   no  \n",
              "...          ...          ...  ...  \n",
              "45206          3      unknown  yes  \n",
              "45207          2      unknown  yes  \n",
              "45208          5      success  yes  \n",
              "45209          4      unknown   no  \n",
              "45210          2        other   no  \n",
              "\n",
              "[45211 rows x 11 columns]"
            ],
            "text/html": [
              "\n",
              "\n",
              "  <div id=\"df-7ce41223-7b80-451f-b40d-859248dd8383\">\n",
              "    <div class=\"colab-df-container\">\n",
              "      <div>\n",
              "<style scoped>\n",
              "    .dataframe tbody tr th:only-of-type {\n",
              "        vertical-align: middle;\n",
              "    }\n",
              "\n",
              "    .dataframe tbody tr th {\n",
              "        vertical-align: top;\n",
              "    }\n",
              "\n",
              "    .dataframe thead th {\n",
              "        text-align: right;\n",
              "    }\n",
              "</style>\n",
              "<table border=\"1\" class=\"dataframe\">\n",
              "  <thead>\n",
              "    <tr style=\"text-align: right;\">\n",
              "      <th></th>\n",
              "      <th>age</th>\n",
              "      <th>job</th>\n",
              "      <th>marital</th>\n",
              "      <th>education_qual</th>\n",
              "      <th>call_type</th>\n",
              "      <th>day</th>\n",
              "      <th>mon</th>\n",
              "      <th>dur</th>\n",
              "      <th>num_calls</th>\n",
              "      <th>prev_outcome</th>\n",
              "      <th>y</th>\n",
              "    </tr>\n",
              "  </thead>\n",
              "  <tbody>\n",
              "    <tr>\n",
              "      <th>0</th>\n",
              "      <td>58</td>\n",
              "      <td>management</td>\n",
              "      <td>married</td>\n",
              "      <td>tertiary</td>\n",
              "      <td>unknown</td>\n",
              "      <td>5</td>\n",
              "      <td>may</td>\n",
              "      <td>261</td>\n",
              "      <td>1</td>\n",
              "      <td>unknown</td>\n",
              "      <td>no</td>\n",
              "    </tr>\n",
              "    <tr>\n",
              "      <th>1</th>\n",
              "      <td>44</td>\n",
              "      <td>technician</td>\n",
              "      <td>single</td>\n",
              "      <td>secondary</td>\n",
              "      <td>unknown</td>\n",
              "      <td>5</td>\n",
              "      <td>may</td>\n",
              "      <td>151</td>\n",
              "      <td>1</td>\n",
              "      <td>unknown</td>\n",
              "      <td>no</td>\n",
              "    </tr>\n",
              "    <tr>\n",
              "      <th>2</th>\n",
              "      <td>33</td>\n",
              "      <td>entrepreneur</td>\n",
              "      <td>married</td>\n",
              "      <td>secondary</td>\n",
              "      <td>unknown</td>\n",
              "      <td>5</td>\n",
              "      <td>may</td>\n",
              "      <td>76</td>\n",
              "      <td>1</td>\n",
              "      <td>unknown</td>\n",
              "      <td>no</td>\n",
              "    </tr>\n",
              "    <tr>\n",
              "      <th>3</th>\n",
              "      <td>47</td>\n",
              "      <td>blue-collar</td>\n",
              "      <td>married</td>\n",
              "      <td>unknown</td>\n",
              "      <td>unknown</td>\n",
              "      <td>5</td>\n",
              "      <td>may</td>\n",
              "      <td>92</td>\n",
              "      <td>1</td>\n",
              "      <td>unknown</td>\n",
              "      <td>no</td>\n",
              "    </tr>\n",
              "    <tr>\n",
              "      <th>4</th>\n",
              "      <td>33</td>\n",
              "      <td>unknown</td>\n",
              "      <td>single</td>\n",
              "      <td>unknown</td>\n",
              "      <td>unknown</td>\n",
              "      <td>5</td>\n",
              "      <td>may</td>\n",
              "      <td>198</td>\n",
              "      <td>1</td>\n",
              "      <td>unknown</td>\n",
              "      <td>no</td>\n",
              "    </tr>\n",
              "    <tr>\n",
              "      <th>...</th>\n",
              "      <td>...</td>\n",
              "      <td>...</td>\n",
              "      <td>...</td>\n",
              "      <td>...</td>\n",
              "      <td>...</td>\n",
              "      <td>...</td>\n",
              "      <td>...</td>\n",
              "      <td>...</td>\n",
              "      <td>...</td>\n",
              "      <td>...</td>\n",
              "      <td>...</td>\n",
              "    </tr>\n",
              "    <tr>\n",
              "      <th>45206</th>\n",
              "      <td>51</td>\n",
              "      <td>technician</td>\n",
              "      <td>married</td>\n",
              "      <td>tertiary</td>\n",
              "      <td>cellular</td>\n",
              "      <td>17</td>\n",
              "      <td>nov</td>\n",
              "      <td>977</td>\n",
              "      <td>3</td>\n",
              "      <td>unknown</td>\n",
              "      <td>yes</td>\n",
              "    </tr>\n",
              "    <tr>\n",
              "      <th>45207</th>\n",
              "      <td>71</td>\n",
              "      <td>retired</td>\n",
              "      <td>divorced</td>\n",
              "      <td>primary</td>\n",
              "      <td>cellular</td>\n",
              "      <td>17</td>\n",
              "      <td>nov</td>\n",
              "      <td>456</td>\n",
              "      <td>2</td>\n",
              "      <td>unknown</td>\n",
              "      <td>yes</td>\n",
              "    </tr>\n",
              "    <tr>\n",
              "      <th>45208</th>\n",
              "      <td>72</td>\n",
              "      <td>retired</td>\n",
              "      <td>married</td>\n",
              "      <td>secondary</td>\n",
              "      <td>cellular</td>\n",
              "      <td>17</td>\n",
              "      <td>nov</td>\n",
              "      <td>1127</td>\n",
              "      <td>5</td>\n",
              "      <td>success</td>\n",
              "      <td>yes</td>\n",
              "    </tr>\n",
              "    <tr>\n",
              "      <th>45209</th>\n",
              "      <td>57</td>\n",
              "      <td>blue-collar</td>\n",
              "      <td>married</td>\n",
              "      <td>secondary</td>\n",
              "      <td>telephone</td>\n",
              "      <td>17</td>\n",
              "      <td>nov</td>\n",
              "      <td>508</td>\n",
              "      <td>4</td>\n",
              "      <td>unknown</td>\n",
              "      <td>no</td>\n",
              "    </tr>\n",
              "    <tr>\n",
              "      <th>45210</th>\n",
              "      <td>37</td>\n",
              "      <td>entrepreneur</td>\n",
              "      <td>married</td>\n",
              "      <td>secondary</td>\n",
              "      <td>cellular</td>\n",
              "      <td>17</td>\n",
              "      <td>nov</td>\n",
              "      <td>361</td>\n",
              "      <td>2</td>\n",
              "      <td>other</td>\n",
              "      <td>no</td>\n",
              "    </tr>\n",
              "  </tbody>\n",
              "</table>\n",
              "<p>45211 rows × 11 columns</p>\n",
              "</div>\n",
              "      <button class=\"colab-df-convert\" onclick=\"convertToInteractive('df-7ce41223-7b80-451f-b40d-859248dd8383')\"\n",
              "              title=\"Convert this dataframe to an interactive table.\"\n",
              "              style=\"display:none;\">\n",
              "\n",
              "  <svg xmlns=\"http://www.w3.org/2000/svg\" height=\"24px\"viewBox=\"0 0 24 24\"\n",
              "       width=\"24px\">\n",
              "    <path d=\"M0 0h24v24H0V0z\" fill=\"none\"/>\n",
              "    <path d=\"M18.56 5.44l.94 2.06.94-2.06 2.06-.94-2.06-.94-.94-2.06-.94 2.06-2.06.94zm-11 1L8.5 8.5l.94-2.06 2.06-.94-2.06-.94L8.5 2.5l-.94 2.06-2.06.94zm10 10l.94 2.06.94-2.06 2.06-.94-2.06-.94-.94-2.06-.94 2.06-2.06.94z\"/><path d=\"M17.41 7.96l-1.37-1.37c-.4-.4-.92-.59-1.43-.59-.52 0-1.04.2-1.43.59L10.3 9.45l-7.72 7.72c-.78.78-.78 2.05 0 2.83L4 21.41c.39.39.9.59 1.41.59.51 0 1.02-.2 1.41-.59l7.78-7.78 2.81-2.81c.8-.78.8-2.07 0-2.86zM5.41 20L4 18.59l7.72-7.72 1.47 1.35L5.41 20z\"/>\n",
              "  </svg>\n",
              "      </button>\n",
              "\n",
              "\n",
              "\n",
              "    <div id=\"df-4ec14789-863d-4c9d-9670-45e67d77f106\">\n",
              "      <button class=\"colab-df-quickchart\" onclick=\"quickchart('df-4ec14789-863d-4c9d-9670-45e67d77f106')\"\n",
              "              title=\"Suggest charts.\"\n",
              "              style=\"display:none;\">\n",
              "\n",
              "<svg xmlns=\"http://www.w3.org/2000/svg\" height=\"24px\"viewBox=\"0 0 24 24\"\n",
              "     width=\"24px\">\n",
              "    <g>\n",
              "        <path d=\"M19 3H5c-1.1 0-2 .9-2 2v14c0 1.1.9 2 2 2h14c1.1 0 2-.9 2-2V5c0-1.1-.9-2-2-2zM9 17H7v-7h2v7zm4 0h-2V7h2v10zm4 0h-2v-4h2v4z\"/>\n",
              "    </g>\n",
              "</svg>\n",
              "      </button>\n",
              "    </div>\n",
              "\n",
              "<style>\n",
              "  .colab-df-quickchart {\n",
              "    background-color: #E8F0FE;\n",
              "    border: none;\n",
              "    border-radius: 50%;\n",
              "    cursor: pointer;\n",
              "    display: none;\n",
              "    fill: #1967D2;\n",
              "    height: 32px;\n",
              "    padding: 0 0 0 0;\n",
              "    width: 32px;\n",
              "  }\n",
              "\n",
              "  .colab-df-quickchart:hover {\n",
              "    background-color: #E2EBFA;\n",
              "    box-shadow: 0px 1px 2px rgba(60, 64, 67, 0.3), 0px 1px 3px 1px rgba(60, 64, 67, 0.15);\n",
              "    fill: #174EA6;\n",
              "  }\n",
              "\n",
              "  [theme=dark] .colab-df-quickchart {\n",
              "    background-color: #3B4455;\n",
              "    fill: #D2E3FC;\n",
              "  }\n",
              "\n",
              "  [theme=dark] .colab-df-quickchart:hover {\n",
              "    background-color: #434B5C;\n",
              "    box-shadow: 0px 1px 3px 1px rgba(0, 0, 0, 0.15);\n",
              "    filter: drop-shadow(0px 1px 2px rgba(0, 0, 0, 0.3));\n",
              "    fill: #FFFFFF;\n",
              "  }\n",
              "</style>\n",
              "\n",
              "    <script>\n",
              "      async function quickchart(key) {\n",
              "        const containerElement = document.querySelector('#' + key);\n",
              "        const charts = await google.colab.kernel.invokeFunction(\n",
              "            'suggestCharts', [key], {});\n",
              "      }\n",
              "    </script>\n",
              "\n",
              "      <script>\n",
              "\n",
              "function displayQuickchartButton(domScope) {\n",
              "  let quickchartButtonEl =\n",
              "    domScope.querySelector('#df-4ec14789-863d-4c9d-9670-45e67d77f106 button.colab-df-quickchart');\n",
              "  quickchartButtonEl.style.display =\n",
              "    google.colab.kernel.accessAllowed ? 'block' : 'none';\n",
              "}\n",
              "\n",
              "        displayQuickchartButton(document);\n",
              "      </script>\n",
              "      <style>\n",
              "    .colab-df-container {\n",
              "      display:flex;\n",
              "      flex-wrap:wrap;\n",
              "      gap: 12px;\n",
              "    }\n",
              "\n",
              "    .colab-df-convert {\n",
              "      background-color: #E8F0FE;\n",
              "      border: none;\n",
              "      border-radius: 50%;\n",
              "      cursor: pointer;\n",
              "      display: none;\n",
              "      fill: #1967D2;\n",
              "      height: 32px;\n",
              "      padding: 0 0 0 0;\n",
              "      width: 32px;\n",
              "    }\n",
              "\n",
              "    .colab-df-convert:hover {\n",
              "      background-color: #E2EBFA;\n",
              "      box-shadow: 0px 1px 2px rgba(60, 64, 67, 0.3), 0px 1px 3px 1px rgba(60, 64, 67, 0.15);\n",
              "      fill: #174EA6;\n",
              "    }\n",
              "\n",
              "    [theme=dark] .colab-df-convert {\n",
              "      background-color: #3B4455;\n",
              "      fill: #D2E3FC;\n",
              "    }\n",
              "\n",
              "    [theme=dark] .colab-df-convert:hover {\n",
              "      background-color: #434B5C;\n",
              "      box-shadow: 0px 1px 3px 1px rgba(0, 0, 0, 0.15);\n",
              "      filter: drop-shadow(0px 1px 2px rgba(0, 0, 0, 0.3));\n",
              "      fill: #FFFFFF;\n",
              "    }\n",
              "  </style>\n",
              "\n",
              "      <script>\n",
              "        const buttonEl =\n",
              "          document.querySelector('#df-7ce41223-7b80-451f-b40d-859248dd8383 button.colab-df-convert');\n",
              "        buttonEl.style.display =\n",
              "          google.colab.kernel.accessAllowed ? 'block' : 'none';\n",
              "\n",
              "        async function convertToInteractive(key) {\n",
              "          const element = document.querySelector('#df-7ce41223-7b80-451f-b40d-859248dd8383');\n",
              "          const dataTable =\n",
              "            await google.colab.kernel.invokeFunction('convertToInteractive',\n",
              "                                                     [key], {});\n",
              "          if (!dataTable) return;\n",
              "\n",
              "          const docLinkHtml = 'Like what you see? Visit the ' +\n",
              "            '<a target=\"_blank\" href=https://colab.research.google.com/notebooks/data_table.ipynb>data table notebook</a>'\n",
              "            + ' to learn more about interactive tables.';\n",
              "          element.innerHTML = '';\n",
              "          dataTable['output_type'] = 'display_data';\n",
              "          await google.colab.output.renderOutput(dataTable, element);\n",
              "          const docLink = document.createElement('div');\n",
              "          docLink.innerHTML = docLinkHtml;\n",
              "          element.appendChild(docLink);\n",
              "        }\n",
              "      </script>\n",
              "    </div>\n",
              "  </div>\n"
            ]
          },
          "metadata": {},
          "execution_count": 6
        }
      ],
      "source": [
        "#Viewing data\n",
        "import pandas as pd\n",
        "import numpy as np\n",
        "\n",
        "data = pd.read_csv('train.csv')\n",
        "data.head()\n",
        "data"
      ]
    },
    {
      "cell_type": "code",
      "execution_count": 7,
      "metadata": {
        "colab": {
          "base_uri": "https://localhost:8080/"
        },
        "id": "AFT-S03gORiq",
        "outputId": "e009d101-2ce5-4e75-e246-56991ffad841"
      },
      "outputs": [
        {
          "output_type": "stream",
          "name": "stdout",
          "text": [
            "age [58 44 33 47 35 28 42 43 41 29 53 57 51 45 60 56 32 25 40 39 52 46 36 49\n",
            " 59 37 50 54 55 48 24 38 31 30 27 34 23 26 61 22 21 20 66 62 83 75 67 70\n",
            " 65 68 64 69 72 71 19 76 85 63 90 82 73 74 78 80 94 79 77 86 95 81 18 89\n",
            " 84 87 92 93 88]\n",
            "job ['management' 'technician' 'entrepreneur' 'blue-collar' 'unknown'\n",
            " 'retired' 'admin.' 'services' 'self-employed' 'unemployed' 'housemaid'\n",
            " 'student']\n",
            "marital ['married' 'single' 'divorced']\n",
            "education_qual ['tertiary' 'secondary' 'unknown' 'primary']\n",
            "call_type ['unknown' 'cellular' 'telephone']\n",
            "day [ 5  6  7  8  9 12 13 14 15 16 19 20 21 23 26 27 28 29 30  2  3  4 11 17\n",
            " 18 24 25  1 10 22 31]\n",
            "mon ['may' 'jun' 'jul' 'aug' 'oct' 'nov' 'dec' 'jan' 'feb' 'mar' 'apr' 'sep']\n",
            "dur [ 261  151   76 ... 1298 1246 1556]\n",
            "num_calls [ 1  2  3  5  4  6  7  8  9 10 11 12 13 19 14 24 16 32 18 22 15 17 25 21\n",
            " 43 51 63 41 26 28 55 50 38 23 20 29 31 37 30 46 27 58 33 35 34 36 39 44]\n",
            "prev_outcome ['unknown' 'failure' 'other' 'success']\n",
            "y ['no' 'yes']\n"
          ]
        }
      ],
      "source": [
        "#Finding unique values in all columns\n",
        "for columns in data.columns:\n",
        "  y = data[columns].unique()\n",
        "  print(columns, y)"
      ]
    },
    {
      "cell_type": "markdown",
      "metadata": {
        "id": "4aZF7gxMLqwz"
      },
      "source": [
        "\n",
        "\n",
        "# Cleaning and encoding data"
      ]
    },
    {
      "cell_type": "code",
      "execution_count": 8,
      "metadata": {
        "id": "VmhdS8WMct3C"
      },
      "outputs": [],
      "source": [
        "#Encoding target value as 1 and 0\n",
        "data.y = data['y'].map({\"no\":0, \"yes\": 1})"
      ]
    },
    {
      "cell_type": "markdown",
      "metadata": {
        "id": "0daxsJBpLdyW"
      },
      "source": [
        "Age column cleaning and encoding"
      ]
    },
    {
      "cell_type": "code",
      "source": [
        "data.age.describe()"
      ],
      "metadata": {
        "id": "oIaSj7RnwtjU",
        "colab": {
          "base_uri": "https://localhost:8080/"
        },
        "outputId": "175e1111-b187-4e17-dcfa-407a82c012e4"
      },
      "execution_count": 9,
      "outputs": [
        {
          "output_type": "execute_result",
          "data": {
            "text/plain": [
              "count    45211.000000\n",
              "mean        40.936210\n",
              "std         10.618762\n",
              "min         18.000000\n",
              "25%         33.000000\n",
              "50%         39.000000\n",
              "75%         48.000000\n",
              "max         95.000000\n",
              "Name: age, dtype: float64"
            ]
          },
          "metadata": {},
          "execution_count": 9
        }
      ]
    },
    {
      "cell_type": "code",
      "source": [
        "data.age = data.age.clip(18,70)"
      ],
      "metadata": {
        "id": "9yxdc0iyw6XX"
      },
      "execution_count": 10,
      "outputs": []
    },
    {
      "cell_type": "code",
      "source": [
        "data.age.describe()"
      ],
      "metadata": {
        "id": "PB7z3DkDw-YK",
        "colab": {
          "base_uri": "https://localhost:8080/"
        },
        "outputId": "917458ce-dc65-43c1-dbd9-2961faf9519a"
      },
      "execution_count": 11,
      "outputs": [
        {
          "output_type": "execute_result",
          "data": {
            "text/plain": [
              "count    45211.000000\n",
              "mean        40.862799\n",
              "std         10.379659\n",
              "min         18.000000\n",
              "25%         33.000000\n",
              "50%         39.000000\n",
              "75%         48.000000\n",
              "max         70.000000\n",
              "Name: age, dtype: float64"
            ]
          },
          "metadata": {},
          "execution_count": 11
        }
      ]
    },
    {
      "cell_type": "code",
      "source": [
        "age_conversion_rate = data.groupby('age')['y'].mean()\n",
        "age_sorted = age_conversion_rate.reset_index().sort_values('age')\n",
        "age_sorted.plot(x = \"age\", y = \"y\", kind = \"line\")"
      ],
      "metadata": {
        "id": "2-RtNUYUXQvz",
        "colab": {
          "base_uri": "https://localhost:8080/",
          "height": 467
        },
        "outputId": "cdd0bfaf-7890-4c35-bdc9-665bffffd2c1"
      },
      "execution_count": 12,
      "outputs": [
        {
          "output_type": "execute_result",
          "data": {
            "text/plain": [
              "<Axes: xlabel='age'>"
            ]
          },
          "metadata": {},
          "execution_count": 12
        },
        {
          "output_type": "display_data",
          "data": {
            "text/plain": [
              "<Figure size 640x480 with 1 Axes>"
            ],
            "image/png": "[encoded data removed]"
          },
          "metadata": {}
        }
      ]
    },
    {
      "cell_type": "code",
      "source": [
        "data.age.describe()"
      ],
      "metadata": {
        "id": "4QzZd_R9wlAp",
        "colab": {
          "base_uri": "https://localhost:8080/"
        },
        "outputId": "6ee76b7f-5fe8-43e9-d01b-d96804f89719"
      },
      "execution_count": 13,
      "outputs": [
        {
          "output_type": "execute_result",
          "data": {
            "text/plain": [
              "count    45211.000000\n",
              "mean        40.862799\n",
              "std         10.379659\n",
              "min         18.000000\n",
              "25%         33.000000\n",
              "50%         39.000000\n",
              "75%         48.000000\n",
              "max         70.000000\n",
              "Name: age, dtype: float64"
            ]
          },
          "metadata": {},
          "execution_count": 13
        }
      ]
    },
    {
      "cell_type": "code",
      "source": [],
      "metadata": {
        "id": "Q33ORLp0v6Wv"
      },
      "execution_count": 13,
      "outputs": []
    },
    {
      "cell_type": "code",
      "execution_count": 14,
      "metadata": {
        "id": "GQpNcrfEXQlu",
        "colab": {
          "base_uri": "https://localhost:8080/"
        },
        "outputId": "495dde2f-b2a8-4a6e-ef04-6b0e33852b81"
      },
      "outputs": [
        {
          "output_type": "execute_result",
          "data": {
            "text/plain": [
              "blue-collar      9732\n",
              "management       9458\n",
              "technician       7597\n",
              "admin.           5171\n",
              "services         4154\n",
              "retired          2264\n",
              "self-employed    1579\n",
              "entrepreneur     1487\n",
              "unemployed       1303\n",
              "housemaid        1240\n",
              "student           938\n",
              "unknown           288\n",
              "Name: job, dtype: int64"
            ]
          },
          "metadata": {},
          "execution_count": 14
        }
      ],
      "source": [
        "data.job.value_counts()"
      ]
    },
    {
      "cell_type": "markdown",
      "metadata": {
        "id": "uWPqWa4KLJpj"
      },
      "source": [
        "The number of unknowns is less, so we impute unknowns with the mode 'blue-collar'"
      ]
    },
    {
      "cell_type": "code",
      "execution_count": 15,
      "metadata": {
        "id": "XSPH6nVMO3is"
      },
      "outputs": [],
      "source": [
        "data.job.replace(\"unknown\",\"blue-collar\", inplace = True)\n"
      ]
    },
    {
      "cell_type": "code",
      "execution_count": 16,
      "metadata": {
        "id": "wfiCHJm4U1V7",
        "colab": {
          "base_uri": "https://localhost:8080/",
          "height": 555
        },
        "outputId": "bc22403a-e0d6-4e7e-cf87-b74356004c58"
      },
      "outputs": [
        {
          "output_type": "execute_result",
          "data": {
            "text/plain": [
              "<Axes: xlabel='job'>"
            ]
          },
          "metadata": {},
          "execution_count": 16
        },
        {
          "output_type": "display_data",
          "data": {
            "text/plain": [
              "<Figure size 640x480 with 1 Axes>"
            ],
            "image/png": "[encoded data removed]"
          },
          "metadata": {}
        }
      ],
      "source": [
        "job_conversion_rate = data.groupby('job')['y'].mean()\n",
        "job_sorted = job_conversion_rate.reset_index().sort_values('y')\n",
        "job_sorted.plot(x = \"job\", y = \"y\", kind = \"bar\")\n"
      ]
    },
    {
      "cell_type": "markdown",
      "metadata": {
        "id": "rI4IbM9LLVZT"
      },
      "source": [
        "Sorting and encoding the job classes according to the conversion rates"
      ]
    },
    {
      "cell_type": "code",
      "execution_count": 17,
      "metadata": {
        "id": "HTzrOPI_VKgM"
      },
      "outputs": [],
      "source": [
        "data.job = data['job'].map({\"blue-collar\":1,\"entrepreneur\":2, \"housemaid\":3, \"services\":4,\"technician\":5, \"self-employed\":6,\n",
        "                            \"admin.\": 7, \"management\": 8, \"unemployed\":9, \"retired\":10, \"student\":11})"
      ]
    },
    {
      "cell_type": "markdown",
      "metadata": {
        "id": "sG9jGZgJL2Ho"
      },
      "source": [
        "marital status column cleaning and encoding"
      ]
    },
    {
      "cell_type": "code",
      "execution_count": 18,
      "metadata": {
        "id": "Z7jiQiE4grQ7",
        "colab": {
          "base_uri": "https://localhost:8080/"
        },
        "outputId": "a7f525b7-0cfe-46c4-ef40-c478fe3eb426"
      },
      "outputs": [
        {
          "output_type": "execute_result",
          "data": {
            "text/plain": [
              "married     27214\n",
              "single      12790\n",
              "divorced     5207\n",
              "Name: marital, dtype: int64"
            ]
          },
          "metadata": {},
          "execution_count": 18
        }
      ],
      "source": [
        "data.marital.value_counts()\n"
      ]
    },
    {
      "cell_type": "code",
      "execution_count": 19,
      "metadata": {
        "id": "I5DCQJSXhcRA",
        "colab": {
          "base_uri": "https://localhost:8080/",
          "height": 513
        },
        "outputId": "8d1a9083-e08d-4895-95ae-fd3702708553"
      },
      "outputs": [
        {
          "output_type": "execute_result",
          "data": {
            "text/plain": [
              "<Axes: xlabel='marital'>"
            ]
          },
          "metadata": {},
          "execution_count": 19
        },
        {
          "output_type": "display_data",
          "data": {
            "text/plain": [
              "<Figure size 640x480 with 1 Axes>"
            ],
            "image/png": "[encoded data removed]"
          },
          "metadata": {}
        }
      ],
      "source": [
        "marital_conversion_rate = data.groupby('marital')['y'].mean()\n",
        "marital_sorted = marital_conversion_rate.reset_index().sort_values('y')\n",
        "marital_sorted.plot(x = \"marital\", y = \"y\", kind = \"bar\")\n"
      ]
    },
    {
      "cell_type": "code",
      "execution_count": 20,
      "metadata": {
        "id": "KpigSpM8PO6q"
      },
      "outputs": [],
      "source": [
        "# data.marital = data['marital'].map({'married': 1, 'divorced': 2, 'single':3})"
      ]
    },
    {
      "cell_type": "markdown",
      "metadata": {
        "id": "_djA45yuL_GZ"
      },
      "source": [
        "One hot encoding of marital status column"
      ]
    },
    {
      "cell_type": "code",
      "execution_count": 21,
      "metadata": {
        "id": "ppGDxZ6Qn7aM"
      },
      "outputs": [],
      "source": [
        "data = pd.concat([data, pd.get_dummies(data.marital , 'marital')] , axis = 1)\n",
        "data.drop('marital', axis = 1, inplace = True)"
      ]
    },
    {
      "cell_type": "markdown",
      "metadata": {
        "id": "QujQaRICMBCD"
      },
      "source": [
        "Educational qualification column cleaning and encoding"
      ]
    },
    {
      "cell_type": "code",
      "execution_count": 22,
      "metadata": {
        "id": "hJtQ5EKQjXyV",
        "colab": {
          "base_uri": "https://localhost:8080/"
        },
        "outputId": "e9225235-2d8d-4696-cf7a-7529d9039a45"
      },
      "outputs": [
        {
          "output_type": "execute_result",
          "data": {
            "text/plain": [
              "secondary    23202\n",
              "tertiary     13301\n",
              "primary       6851\n",
              "unknown       1857\n",
              "Name: education_qual, dtype: int64"
            ]
          },
          "metadata": {},
          "execution_count": 22
        }
      ],
      "source": [
        "data.education_qual.value_counts()"
      ]
    },
    {
      "cell_type": "code",
      "execution_count": 23,
      "metadata": {
        "id": "8q5Gvc_9jevP"
      },
      "outputs": [],
      "source": [
        "data.education_qual.replace(\"unknown\",\"secondary\", inplace = True)"
      ]
    },
    {
      "cell_type": "code",
      "execution_count": 24,
      "metadata": {
        "colab": {
          "base_uri": "https://localhost:8080/",
          "height": 526
        },
        "id": "WqiR9qIhbwjv",
        "outputId": "04e94b19-7fda-412d-ebc7-47855f7634d4"
      },
      "outputs": [
        {
          "output_type": "execute_result",
          "data": {
            "text/plain": [
              "<Axes: xlabel='education_qual'>"
            ]
          },
          "metadata": {},
          "execution_count": 24
        },
        {
          "output_type": "display_data",
          "data": {
            "text/plain": [
              "<Figure size 640x480 with 1 Axes>"
            ],
            "image/png": "[encoded data removed]"
          },
          "metadata": {}
        }
      ],
      "source": [
        "edu_conversion_rate = data.groupby('education_qual')['y'].mean()\n",
        "edu_sorted = edu_conversion_rate.reset_index().sort_values('y')\n",
        "edu_sorted.plot(x = \"education_qual\", y = \"y\", kind = \"bar\")"
      ]
    },
    {
      "cell_type": "markdown",
      "metadata": {
        "id": "R-Iu9RPeMJiA"
      },
      "source": [
        "Sorting and encoding the classes according to the conversion rates"
      ]
    },
    {
      "cell_type": "code",
      "execution_count": 25,
      "metadata": {
        "id": "yX0HcrrVjEGS"
      },
      "outputs": [],
      "source": [
        "data.education_qual = data['education_qual'].map({'primary':1,\"secondary\":2,\"tertiary\":3})\n"
      ]
    },
    {
      "cell_type": "markdown",
      "metadata": {
        "id": "T22FgsQxMO1U"
      },
      "source": [
        "Call type column cleaning and encoding"
      ]
    },
    {
      "cell_type": "code",
      "execution_count": 26,
      "metadata": {
        "id": "3rPBDhRXj7r9",
        "colab": {
          "base_uri": "https://localhost:8080/"
        },
        "outputId": "ee1b8ed2-4efe-4258-b6ef-b6f3fb569ae4"
      },
      "outputs": [
        {
          "output_type": "execute_result",
          "data": {
            "text/plain": [
              "cellular     29285\n",
              "unknown      13020\n",
              "telephone     2906\n",
              "Name: call_type, dtype: int64"
            ]
          },
          "metadata": {},
          "execution_count": 26
        }
      ],
      "source": [
        "data.call_type.value_counts()"
      ]
    },
    {
      "cell_type": "markdown",
      "metadata": {
        "id": "ETlXzshZMRbF"
      },
      "source": [
        "Here,the unknowns form a large percentage of the data. So we treat unknowns as a seperate class"
      ]
    },
    {
      "cell_type": "code",
      "execution_count": 27,
      "metadata": {
        "id": "_Lu2dKa4kQPr",
        "colab": {
          "base_uri": "https://localhost:8080/",
          "height": 523
        },
        "outputId": "1fd92957-c1fd-41a3-a3c8-6e10391ddd95"
      },
      "outputs": [
        {
          "output_type": "execute_result",
          "data": {
            "text/plain": [
              "<Axes: xlabel='call_type'>"
            ]
          },
          "metadata": {},
          "execution_count": 27
        },
        {
          "output_type": "display_data",
          "data": {
            "text/plain": [
              "<Figure size 640x480 with 1 Axes>"
            ],
            "image/png": "[encoded data removed]"
          },
          "metadata": {}
        }
      ],
      "source": [
        "call_type_conversion_rate = data.groupby('call_type')['y'].mean()\n",
        "call_type_sorted = call_type_conversion_rate.reset_index().sort_values('y')\n",
        "call_type_sorted.plot(x = \"call_type\", y = \"y\", kind = \"bar\")"
      ]
    },
    {
      "cell_type": "code",
      "execution_count": 28,
      "metadata": {
        "id": "9BJb8UUKkikn"
      },
      "outputs": [],
      "source": [
        "# data.call_type = data.call_type.map({\"unknown\":1,\"telephone\":2,\"cellular\":3})\n"
      ]
    },
    {
      "cell_type": "markdown",
      "metadata": {
        "id": "ULftEjhPMZFl"
      },
      "source": [
        "One hot encoding of call type column"
      ]
    },
    {
      "cell_type": "code",
      "execution_count": 29,
      "metadata": {
        "id": "ThBfXroP2BY2"
      },
      "outputs": [],
      "source": [
        "data = pd.concat([data, pd.get_dummies(data.call_type , 'call_type')] , axis = 1)\n",
        "data.drop('call_type', axis = 1, inplace = True)"
      ]
    },
    {
      "cell_type": "markdown",
      "metadata": {
        "id": "UeoBf4xMMdTd"
      },
      "source": [
        "Cleaning and encoding of day column"
      ]
    },
    {
      "cell_type": "code",
      "execution_count": 30,
      "metadata": {
        "id": "27j4RqaMk33H",
        "colab": {
          "base_uri": "https://localhost:8080/",
          "height": 471
        },
        "outputId": "61b004a6-c2b9-4f21-caad-c97d396a636b"
      },
      "outputs": [
        {
          "output_type": "execute_result",
          "data": {
            "text/plain": [
              "<Axes: xlabel='day'>"
            ]
          },
          "metadata": {},
          "execution_count": 30
        },
        {
          "output_type": "display_data",
          "data": {
            "text/plain": [
              "<Figure size 640x480 with 1 Axes>"
            ],
            "image/png": "[encoded data removed]"
          },
          "metadata": {}
        }
      ],
      "source": [
        "day_conversion_rate = data.groupby('day')['y'].mean()\n",
        "day_sorted = day_conversion_rate.reset_index().sort_values('day')\n",
        "day_sorted.plot(x = \"day\", y = \"y\", kind = \"bar\")"
      ]
    },
    {
      "cell_type": "markdown",
      "metadata": {
        "id": "fviJo0aVMgMF"
      },
      "source": [
        "Cleaning and encoding of month column"
      ]
    },
    {
      "cell_type": "code",
      "execution_count": 31,
      "metadata": {
        "id": "SD1eWn6tlpC3",
        "colab": {
          "base_uri": "https://localhost:8080/",
          "height": 484
        },
        "outputId": "16f696b5-84e0-448e-e339-dd657ce836df"
      },
      "outputs": [
        {
          "output_type": "execute_result",
          "data": {
            "text/plain": [
              "<Axes: xlabel='mon'>"
            ]
          },
          "metadata": {},
          "execution_count": 31
        },
        {
          "output_type": "display_data",
          "data": {
            "text/plain": [
              "<Figure size 640x480 with 1 Axes>"
            ],
            "image/png": "[encoded data removed]"
          },
          "metadata": {}
        }
      ],
      "source": [
        "mon_conversion_rate = data.groupby('mon')['y'].mean()\n",
        "mon_sorted = mon_conversion_rate.reset_index().sort_values('y')\n",
        "mon_sorted.plot(x = \"mon\", y = \"y\", kind = \"bar\")"
      ]
    },
    {
      "cell_type": "markdown",
      "metadata": {
        "id": "1gvmKlSvMjS2"
      },
      "source": [
        "Sorting months according to the conversion rates and encoding them"
      ]
    },
    {
      "cell_type": "code",
      "execution_count": 32,
      "metadata": {
        "id": "CgjAcD41l7c-"
      },
      "outputs": [],
      "source": [
        "data.mon = data.mon.map({\"may\":1,\"jul\":2,\"jan\":3,\"nov\":4,\"jun\":5,\"aug\":6,\"feb\":7,\"apr\":8,\"oct\":9,\"sep\":10,\"dec\":11,\"mar\":12})"
      ]
    },
    {
      "cell_type": "markdown",
      "metadata": {
        "id": "aDq1YE-zMn9h"
      },
      "source": [
        "Cleaning and encoding of duration column"
      ]
    },
    {
      "cell_type": "code",
      "execution_count": 33,
      "metadata": {
        "id": "LVp6ETNHmaNl",
        "colab": {
          "base_uri": "https://localhost:8080/"
        },
        "outputId": "805833df-13ca-4d57-8bb0-a0522c78226c"
      },
      "outputs": [
        {
          "output_type": "execute_result",
          "data": {
            "text/plain": [
              "count    45211.000000\n",
              "mean       258.163080\n",
              "std        257.527812\n",
              "min          0.000000\n",
              "25%        103.000000\n",
              "50%        180.000000\n",
              "75%        319.000000\n",
              "max       4918.000000\n",
              "Name: dur, dtype: float64"
            ]
          },
          "metadata": {},
          "execution_count": 33
        }
      ],
      "source": [
        "data.dur.describe()"
      ]
    },
    {
      "cell_type": "markdown",
      "metadata": {
        "id": "AE6QJl9oMqnK"
      },
      "source": [
        "Treating outeliers in duration column. IQR = (319-103) = 216\n",
        "\n",
        "1.5 * IQR = 324\n",
        "\n",
        "So thresholds = -221 , 643"
      ]
    },
    {
      "cell_type": "code",
      "execution_count": 34,
      "metadata": {
        "id": "Ei8iJ4yDmnor",
        "colab": {
          "base_uri": "https://localhost:8080/"
        },
        "outputId": "e493d825-d5d5-4db5-b9e3-b0ee3aca849a"
      },
      "outputs": [
        {
          "output_type": "execute_result",
          "data": {
            "text/plain": [
              "count    45211.000000\n",
              "mean       234.939307\n",
              "std        176.749932\n",
              "min          0.000000\n",
              "25%        103.000000\n",
              "50%        180.000000\n",
              "75%        319.000000\n",
              "max        643.000000\n",
              "Name: dur, dtype: float64"
            ]
          },
          "metadata": {},
          "execution_count": 34
        }
      ],
      "source": [
        "data.dur.clip(0,643, inplace = True)\n",
        "data.dur.describe()"
      ]
    },
    {
      "cell_type": "code",
      "execution_count": 35,
      "metadata": {
        "id": "K2Xoc8IcNNum",
        "colab": {
          "base_uri": "https://localhost:8080/",
          "height": 467
        },
        "outputId": "3d0698b7-8625-48f2-f7dd-4d0cd8a8a7c9"
      },
      "outputs": [
        {
          "output_type": "execute_result",
          "data": {
            "text/plain": [
              "<Axes: xlabel='dur'>"
            ]
          },
          "metadata": {},
          "execution_count": 35
        },
        {
          "output_type": "display_data",
          "data": {
            "text/plain": [
              "<Figure size 640x480 with 1 Axes>"
            ],
            "image/png": "[encoded data removed]"
          },
          "metadata": {}
        }
      ],
      "source": [
        "dur_conversion_rate = data.groupby('dur')['y'].mean()\n",
        "dur_sorted = dur_conversion_rate.reset_index().sort_values('dur')\n",
        "dur_sorted.plot(x = \"dur\", y = \"y\", kind = \"line\")"
      ]
    },
    {
      "cell_type": "markdown",
      "metadata": {
        "id": "BzQ7t_CCM7nE"
      },
      "source": [
        "Removing noises in the duration value by taking a modulo of 30. This will ground all values to the lower 30 second interval"
      ]
    },
    {
      "cell_type": "code",
      "execution_count": 36,
      "metadata": {
        "id": "sIfkktYGi4q7"
      },
      "outputs": [],
      "source": [
        "data.dur = data.dur.transform(lambda x: x//30)"
      ]
    },
    {
      "cell_type": "code",
      "execution_count": 37,
      "metadata": {
        "id": "zMHrB1dMTPWc",
        "colab": {
          "base_uri": "https://localhost:8080/",
          "height": 467
        },
        "outputId": "90c8716c-8c46-4213-95c1-75b11922fa8b"
      },
      "outputs": [
        {
          "output_type": "execute_result",
          "data": {
            "text/plain": [
              "<Axes: xlabel='dur'>"
            ]
          },
          "metadata": {},
          "execution_count": 37
        },
        {
          "output_type": "display_data",
          "data": {
            "text/plain": [
              "<Figure size 640x480 with 1 Axes>"
            ],
            "image/png": "[encoded data removed]"
          },
          "metadata": {}
        }
      ],
      "source": [
        "dur_conversion_rate = data.groupby('dur')['y'].mean()\n",
        "dur_sorted = dur_conversion_rate.reset_index().sort_values('dur')\n",
        "dur_sorted.plot(x = \"dur\", y = \"y\", kind = \"line\")\n"
      ]
    },
    {
      "cell_type": "code",
      "execution_count": 38,
      "metadata": {
        "id": "fIgNZkX0f7QV",
        "colab": {
          "base_uri": "https://localhost:8080/"
        },
        "outputId": "73f31926-5ab9-4855-cf24-ea3be0523ea0"
      },
      "outputs": [
        {
          "output_type": "execute_result",
          "data": {
            "text/plain": [
              "count    45211.000000\n",
              "mean         7.352569\n",
              "std          5.907227\n",
              "min          0.000000\n",
              "25%          3.000000\n",
              "50%          6.000000\n",
              "75%         10.000000\n",
              "max         21.000000\n",
              "Name: dur, dtype: float64"
            ]
          },
          "metadata": {},
          "execution_count": 38
        }
      ],
      "source": [
        "data.dur.describe()"
      ]
    },
    {
      "cell_type": "markdown",
      "metadata": {
        "id": "3FJ-6IrbNUDO"
      },
      "source": [
        "Cleaning and encoding number of calls column"
      ]
    },
    {
      "cell_type": "code",
      "execution_count": 39,
      "metadata": {
        "id": "wjZ5K0ipqEbo",
        "colab": {
          "base_uri": "https://localhost:8080/"
        },
        "outputId": "e07ffef4-dfee-49f9-df3f-008b656981d2"
      },
      "outputs": [
        {
          "output_type": "execute_result",
          "data": {
            "text/plain": [
              "count    45211.000000\n",
              "mean         2.763841\n",
              "std          3.098021\n",
              "min          1.000000\n",
              "25%          1.000000\n",
              "50%          2.000000\n",
              "75%          3.000000\n",
              "max         63.000000\n",
              "Name: num_calls, dtype: float64"
            ]
          },
          "metadata": {},
          "execution_count": 39
        }
      ],
      "source": [
        "data.num_calls.describe()"
      ]
    },
    {
      "cell_type": "markdown",
      "metadata": {
        "id": "DSKIFGFUNd7S"
      },
      "source": [
        "Treating outeliers. IQR = 3-1 = 2\n",
        "\n",
        "1.5 * IQR = 3. So thresholds are -2 and 6"
      ]
    },
    {
      "cell_type": "code",
      "execution_count": 40,
      "metadata": {
        "id": "RyYT1lUJqctz"
      },
      "outputs": [],
      "source": [
        "data.num_calls.clip(0,6,inplace=True)\n"
      ]
    },
    {
      "cell_type": "code",
      "execution_count": 41,
      "metadata": {
        "id": "IIqiXbYArEs-",
        "colab": {
          "base_uri": "https://localhost:8080/",
          "height": 462
        },
        "outputId": "ce7543ec-ee61-4723-cd54-fdfe73202671"
      },
      "outputs": [
        {
          "output_type": "execute_result",
          "data": {
            "text/plain": [
              "<Axes: xlabel='num_calls'>"
            ]
          },
          "metadata": {},
          "execution_count": 41
        },
        {
          "output_type": "display_data",
          "data": {
            "text/plain": [
              "<Figure size 640x480 with 1 Axes>"
            ],
            "image/png": "[encoded data removed]"
          },
          "metadata": {}
        }
      ],
      "source": [
        "num_calls_conversion_rate = data.groupby('num_calls')['y'].mean()\n",
        "num_calls_sorted = num_calls_conversion_rate.reset_index().sort_values('num_calls')\n",
        "num_calls_sorted.plot(x = \"num_calls\", y = \"y\", kind = \"bar\")"
      ]
    },
    {
      "cell_type": "markdown",
      "metadata": {
        "id": "uRlhNc4LNm2E"
      },
      "source": [
        "Cleaning and encoding previous outcome column"
      ]
    },
    {
      "cell_type": "code",
      "execution_count": 42,
      "metadata": {
        "id": "1hiBPtJprTzq",
        "colab": {
          "base_uri": "https://localhost:8080/"
        },
        "outputId": "c0ccac4a-341e-4e56-ac5d-a9696de6adfc"
      },
      "outputs": [
        {
          "output_type": "execute_result",
          "data": {
            "text/plain": [
              "unknown    36959\n",
              "failure     4901\n",
              "other       1840\n",
              "success     1511\n",
              "Name: prev_outcome, dtype: int64"
            ]
          },
          "metadata": {},
          "execution_count": 42
        }
      ],
      "source": [
        "data.prev_outcome.value_counts()"
      ]
    },
    {
      "cell_type": "markdown",
      "metadata": {
        "id": "EhwAO1RHNqaG"
      },
      "source": [
        "Here, unknowns form the largest percentage of data. So we handle them as seperate class"
      ]
    },
    {
      "cell_type": "code",
      "execution_count": 43,
      "metadata": {
        "id": "2Z5_3g_TrYr_",
        "colab": {
          "base_uri": "https://localhost:8080/",
          "height": 516
        },
        "outputId": "8dde998c-ad35-45b8-f9bc-4f6288d9d502"
      },
      "outputs": [
        {
          "output_type": "execute_result",
          "data": {
            "text/plain": [
              "<Axes: xlabel='prev_outcome'>"
            ]
          },
          "metadata": {},
          "execution_count": 43
        },
        {
          "output_type": "display_data",
          "data": {
            "text/plain": [
              "<Figure size 640x480 with 1 Axes>"
            ],
            "image/png": "[encoded data removed]"
          },
          "metadata": {}
        }
      ],
      "source": [
        "prev_outcome_conversion_rate = data.groupby('prev_outcome')['y'].mean()\n",
        "prev_outcome_sorted = prev_outcome_conversion_rate.reset_index().sort_values('y')\n",
        "prev_outcome_sorted.plot(x = \"prev_outcome\", y = \"y\", kind = \"bar\")"
      ]
    },
    {
      "cell_type": "code",
      "execution_count": 44,
      "metadata": {
        "id": "6-6uRJWdrihZ"
      },
      "outputs": [],
      "source": [
        "# data.prev_outcome = data.prev_outcome.map({'unknown':1,'failure':2,'other':3,'success':4})"
      ]
    },
    {
      "cell_type": "markdown",
      "metadata": {
        "id": "4_3-xhWzNxcn"
      },
      "source": [
        "One hot encoding of prev_outcome column"
      ]
    },
    {
      "cell_type": "code",
      "execution_count": 45,
      "metadata": {
        "id": "6ow-NojpDKPO"
      },
      "outputs": [],
      "source": [
        "data = pd.concat([data, pd.get_dummies(data.prev_outcome , 'prev_outcome')] , axis = 1)\n",
        "data.drop('prev_outcome', axis = 1, inplace = True)"
      ]
    },
    {
      "cell_type": "markdown",
      "metadata": {
        "id": "f-UnyyyqOtJa"
      },
      "source": [
        "# **Seperating features and target**"
      ]
    },
    {
      "cell_type": "markdown",
      "metadata": {
        "id": "lTtgGVI9O7RT"
      },
      "source": [
        "Here,there is an imbalance in classes of the target variable and hence there is a need to balance the data"
      ]
    },
    {
      "cell_type": "markdown",
      "metadata": {
        "id": "ghxPZV0PO2tz"
      },
      "source": [
        "Seperating features and targets"
      ]
    },
    {
      "cell_type": "code",
      "execution_count": 46,
      "metadata": {
        "id": "rB7YGppIwrGj"
      },
      "outputs": [],
      "source": [
        "y = pd.DataFrame(data.y, columns = ['y'])\n",
        "\n",
        "X = data.drop('y', axis = 1)\n"
      ]
    },
    {
      "cell_type": "code",
      "execution_count": 47,
      "metadata": {
        "id": "2K4fh1Q_IG_V",
        "colab": {
          "base_uri": "https://localhost:8080/",
          "height": 487
        },
        "outputId": "50e01323-238c-4cf4-e698-f77d85e55994"
      },
      "outputs": [
        {
          "output_type": "execute_result",
          "data": {
            "text/plain": [
              "       age  job  education_qual  day  mon  dur  num_calls  marital_divorced  \\\n",
              "0       58    8               3    5    1    8          1                 0   \n",
              "1       44    5               2    5    1    5          1                 0   \n",
              "2       33    2               2    5    1    2          1                 0   \n",
              "3       47    1               2    5    1    3          1                 0   \n",
              "4       33    1               2    5    1    6          1                 0   \n",
              "...    ...  ...             ...  ...  ...  ...        ...               ...   \n",
              "45206   51    5               3   17    4   21          3                 0   \n",
              "45207   70   10               1   17    4   15          2                 1   \n",
              "45208   70   10               2   17    4   21          5                 0   \n",
              "45209   57    1               2   17    4   16          4                 0   \n",
              "45210   37    2               2   17    4   12          2                 0   \n",
              "\n",
              "       marital_married  marital_single  call_type_cellular  \\\n",
              "0                    1               0                   0   \n",
              "1                    0               1                   0   \n",
              "2                    1               0                   0   \n",
              "3                    1               0                   0   \n",
              "4                    0               1                   0   \n",
              "...                ...             ...                 ...   \n",
              "45206                1               0                   1   \n",
              "45207                0               0                   1   \n",
              "45208                1               0                   1   \n",
              "45209                1               0                   0   \n",
              "45210                1               0                   1   \n",
              "\n",
              "       call_type_telephone  call_type_unknown  prev_outcome_failure  \\\n",
              "0                        0                  1                     0   \n",
              "1                        0                  1                     0   \n",
              "2                        0                  1                     0   \n",
              "3                        0                  1                     0   \n",
              "4                        0                  1                     0   \n",
              "...                    ...                ...                   ...   \n",
              "45206                    0                  0                     0   \n",
              "45207                    0                  0                     0   \n",
              "45208                    0                  0                     0   \n",
              "45209                    1                  0                     0   \n",
              "45210                    0                  0                     0   \n",
              "\n",
              "       prev_outcome_other  prev_outcome_success  prev_outcome_unknown  \n",
              "0                       0                     0                     1  \n",
              "1                       0                     0                     1  \n",
              "2                       0                     0                     1  \n",
              "3                       0                     0                     1  \n",
              "4                       0                     0                     1  \n",
              "...                   ...                   ...                   ...  \n",
              "45206                   0                     0                     1  \n",
              "45207                   0                     0                     1  \n",
              "45208                   0                     1                     0  \n",
              "45209                   0                     0                     1  \n",
              "45210                   1                     0                     0  \n",
              "\n",
              "[45211 rows x 17 columns]"
            ],
            "text/html": [
              "\n",
              "\n",
              "  <div id=\"df-31887b28-5c18-4479-8a3f-c34123f09204\">\n",
              "    <div class=\"colab-df-container\">\n",
              "      <div>\n",
              "<style scoped>\n",
              "    .dataframe tbody tr th:only-of-type {\n",
              "        vertical-align: middle;\n",
              "    }\n",
              "\n",
              "    .dataframe tbody tr th {\n",
              "        vertical-align: top;\n",
              "    }\n",
              "\n",
              "    .dataframe thead th {\n",
              "        text-align: right;\n",
              "    }\n",
              "</style>\n",
              "<table border=\"1\" class=\"dataframe\">\n",
              "  <thead>\n",
              "    <tr style=\"text-align: right;\">\n",
              "      <th></th>\n",
              "      <th>age</th>\n",
              "      <th>job</th>\n",
              "      <th>education_qual</th>\n",
              "      <th>day</th>\n",
              "      <th>mon</th>\n",
              "      <th>dur</th>\n",
              "      <th>num_calls</th>\n",
              "      <th>marital_divorced</th>\n",
              "      <th>marital_married</th>\n",
              "      <th>marital_single</th>\n",
              "      <th>call_type_cellular</th>\n",
              "      <th>call_type_telephone</th>\n",
              "      <th>call_type_unknown</th>\n",
              "      <th>prev_outcome_failure</th>\n",
              "      <th>prev_outcome_other</th>\n",
              "      <th>prev_outcome_success</th>\n",
              "      <th>prev_outcome_unknown</th>\n",
              "    </tr>\n",
              "  </thead>\n",
              "  <tbody>\n",
              "    <tr>\n",
              "      <th>0</th>\n",
              "      <td>58</td>\n",
              "      <td>8</td>\n",
              "      <td>3</td>\n",
              "      <td>5</td>\n",
              "      <td>1</td>\n",
              "      <td>8</td>\n",
              "      <td>1</td>\n",
              "      <td>0</td>\n",
              "      <td>1</td>\n",
              "      <td>0</td>\n",
              "      <td>0</td>\n",
              "      <td>0</td>\n",
              "      <td>1</td>\n",
              "      <td>0</td>\n",
              "      <td>0</td>\n",
              "      <td>0</td>\n",
              "      <td>1</td>\n",
              "    </tr>\n",
              "    <tr>\n",
              "      <th>1</th>\n",
              "      <td>44</td>\n",
              "      <td>5</td>\n",
              "      <td>2</td>\n",
              "      <td>5</td>\n",
              "      <td>1</td>\n",
              "      <td>5</td>\n",
              "      <td>1</td>\n",
              "      <td>0</td>\n",
              "      <td>0</td>\n",
              "      <td>1</td>\n",
              "      <td>0</td>\n",
              "      <td>0</td>\n",
              "      <td>1</td>\n",
              "      <td>0</td>\n",
              "      <td>0</td>\n",
              "      <td>0</td>\n",
              "      <td>1</td>\n",
              "    </tr>\n",
              "    <tr>\n",
              "      <th>2</th>\n",
              "      <td>33</td>\n",
              "      <td>2</td>\n",
              "      <td>2</td>\n",
              "      <td>5</td>\n",
              "      <td>1</td>\n",
              "      <td>2</td>\n",
              "      <td>1</td>\n",
              "      <td>0</td>\n",
              "      <td>1</td>\n",
              "      <td>0</td>\n",
              "      <td>0</td>\n",
              "      <td>0</td>\n",
              "      <td>1</td>\n",
              "      <td>0</td>\n",
              "      <td>0</td>\n",
              "      <td>0</td>\n",
              "      <td>1</td>\n",
              "    </tr>\n",
              "    <tr>\n",
              "      <th>3</th>\n",
              "      <td>47</td>\n",
              "      <td>1</td>\n",
              "      <td>2</td>\n",
              "      <td>5</td>\n",
              "      <td>1</td>\n",
              "      <td>3</td>\n",
              "      <td>1</td>\n",
              "      <td>0</td>\n",
              "      <td>1</td>\n",
              "      <td>0</td>\n",
              "      <td>0</td>\n",
              "      <td>0</td>\n",
              "      <td>1</td>\n",
              "      <td>0</td>\n",
              "      <td>0</td>\n",
              "      <td>0</td>\n",
              "      <td>1</td>\n",
              "    </tr>\n",
              "    <tr>\n",
              "      <th>4</th>\n",
              "      <td>33</td>\n",
              "      <td>1</td>\n",
              "      <td>2</td>\n",
              "      <td>5</td>\n",
              "      <td>1</td>\n",
              "      <td>6</td>\n",
              "      <td>1</td>\n",
              "      <td>0</td>\n",
              "      <td>0</td>\n",
              "      <td>1</td>\n",
              "      <td>0</td>\n",
              "      <td>0</td>\n",
              "      <td>1</td>\n",
              "      <td>0</td>\n",
              "      <td>0</td>\n",
              "      <td>0</td>\n",
              "      <td>1</td>\n",
              "    </tr>\n",
              "    <tr>\n",
              "      <th>...</th>\n",
              "      <td>...</td>\n",
              "      <td>...</td>\n",
              "      <td>...</td>\n",
              "      <td>...</td>\n",
              "      <td>...</td>\n",
              "      <td>...</td>\n",
              "      <td>...</td>\n",
              "      <td>...</td>\n",
              "      <td>...</td>\n",
              "      <td>...</td>\n",
              "      <td>...</td>\n",
              "      <td>...</td>\n",
              "      <td>...</td>\n",
              "      <td>...</td>\n",
              "      <td>...</td>\n",
              "      <td>...</td>\n",
              "      <td>...</td>\n",
              "    </tr>\n",
              "    <tr>\n",
              "      <th>45206</th>\n",
              "      <td>51</td>\n",
              "      <td>5</td>\n",
              "      <td>3</td>\n",
              "      <td>17</td>\n",
              "      <td>4</td>\n",
              "      <td>21</td>\n",
              "      <td>3</td>\n",
              "      <td>0</td>\n",
              "      <td>1</td>\n",
              "      <td>0</td>\n",
              "      <td>1</td>\n",
              "      <td>0</td>\n",
              "      <td>0</td>\n",
              "      <td>0</td>\n",
              "      <td>0</td>\n",
              "      <td>0</td>\n",
              "      <td>1</td>\n",
              "    </tr>\n",
              "    <tr>\n",
              "      <th>45207</th>\n",
              "      <td>70</td>\n",
              "      <td>10</td>\n",
              "      <td>1</td>\n",
              "      <td>17</td>\n",
              "      <td>4</td>\n",
              "      <td>15</td>\n",
              "      <td>2</td>\n",
              "      <td>1</td>\n",
              "      <td>0</td>\n",
              "      <td>0</td>\n",
              "      <td>1</td>\n",
              "      <td>0</td>\n",
              "      <td>0</td>\n",
              "      <td>0</td>\n",
              "      <td>0</td>\n",
              "      <td>0</td>\n",
              "      <td>1</td>\n",
              "    </tr>\n",
              "    <tr>\n",
              "      <th>45208</th>\n",
              "      <td>70</td>\n",
              "      <td>10</td>\n",
              "      <td>2</td>\n",
              "      <td>17</td>\n",
              "      <td>4</td>\n",
              "      <td>21</td>\n",
              "      <td>5</td>\n",
              "      <td>0</td>\n",
              "      <td>1</td>\n",
              "      <td>0</td>\n",
              "      <td>1</td>\n",
              "      <td>0</td>\n",
              "      <td>0</td>\n",
              "      <td>0</td>\n",
              "      <td>0</td>\n",
              "      <td>1</td>\n",
              "      <td>0</td>\n",
              "    </tr>\n",
              "    <tr>\n",
              "      <th>45209</th>\n",
              "      <td>57</td>\n",
              "      <td>1</td>\n",
              "      <td>2</td>\n",
              "      <td>17</td>\n",
              "      <td>4</td>\n",
              "      <td>16</td>\n",
              "      <td>4</td>\n",
              "      <td>0</td>\n",
              "      <td>1</td>\n",
              "      <td>0</td>\n",
              "      <td>0</td>\n",
              "      <td>1</td>\n",
              "      <td>0</td>\n",
              "      <td>0</td>\n",
              "      <td>0</td>\n",
              "      <td>0</td>\n",
              "      <td>1</td>\n",
              "    </tr>\n",
              "    <tr>\n",
              "      <th>45210</th>\n",
              "      <td>37</td>\n",
              "      <td>2</td>\n",
              "      <td>2</td>\n",
              "      <td>17</td>\n",
              "      <td>4</td>\n",
              "      <td>12</td>\n",
              "      <td>2</td>\n",
              "      <td>0</td>\n",
              "      <td>1</td>\n",
              "      <td>0</td>\n",
              "      <td>1</td>\n",
              "      <td>0</td>\n",
              "      <td>0</td>\n",
              "      <td>0</td>\n",
              "      <td>1</td>\n",
              "      <td>0</td>\n",
              "      <td>0</td>\n",
              "    </tr>\n",
              "  </tbody>\n",
              "</table>\n",
              "<p>45211 rows × 17 columns</p>\n",
              "</div>\n",
              "      <button class=\"colab-df-convert\" onclick=\"convertToInteractive('df-31887b28-5c18-4479-8a3f-c34123f09204')\"\n",
              "              title=\"Convert this dataframe to an interactive table.\"\n",
              "              style=\"display:none;\">\n",
              "\n",
              "  <svg xmlns=\"http://www.w3.org/2000/svg\" height=\"24px\"viewBox=\"0 0 24 24\"\n",
              "       width=\"24px\">\n",
              "    <path d=\"M0 0h24v24H0V0z\" fill=\"none\"/>\n",
              "    <path d=\"M18.56 5.44l.94 2.06.94-2.06 2.06-.94-2.06-.94-.94-2.06-.94 2.06-2.06.94zm-11 1L8.5 8.5l.94-2.06 2.06-.94-2.06-.94L8.5 2.5l-.94 2.06-2.06.94zm10 10l.94 2.06.94-2.06 2.06-.94-2.06-.94-.94-2.06-.94 2.06-2.06.94z\"/><path d=\"M17.41 7.96l-1.37-1.37c-.4-.4-.92-.59-1.43-.59-.52 0-1.04.2-1.43.59L10.3 9.45l-7.72 7.72c-.78.78-.78 2.05 0 2.83L4 21.41c.39.39.9.59 1.41.59.51 0 1.02-.2 1.41-.59l7.78-7.78 2.81-2.81c.8-.78.8-2.07 0-2.86zM5.41 20L4 18.59l7.72-7.72 1.47 1.35L5.41 20z\"/>\n",
              "  </svg>\n",
              "      </button>\n",
              "\n",
              "\n",
              "\n",
              "    <div id=\"df-9b9ba727-631e-48e0-bfae-26d34c129e9e\">\n",
              "      <button class=\"colab-df-quickchart\" onclick=\"quickchart('df-9b9ba727-631e-48e0-bfae-26d34c129e9e')\"\n",
              "              title=\"Suggest charts.\"\n",
              "              style=\"display:none;\">\n",
              "\n",
              "<svg xmlns=\"http://www.w3.org/2000/svg\" height=\"24px\"viewBox=\"0 0 24 24\"\n",
              "     width=\"24px\">\n",
              "    <g>\n",
              "        <path d=\"M19 3H5c-1.1 0-2 .9-2 2v14c0 1.1.9 2 2 2h14c1.1 0 2-.9 2-2V5c0-1.1-.9-2-2-2zM9 17H7v-7h2v7zm4 0h-2V7h2v10zm4 0h-2v-4h2v4z\"/>\n",
              "    </g>\n",
              "</svg>\n",
              "      </button>\n",
              "    </div>\n",
              "\n",
              "<style>\n",
              "  .colab-df-quickchart {\n",
              "    background-color: #E8F0FE;\n",
              "    border: none;\n",
              "    border-radius: 50%;\n",
              "    cursor: pointer;\n",
              "    display: none;\n",
              "    fill: #1967D2;\n",
              "    height: 32px;\n",
              "    padding: 0 0 0 0;\n",
              "    width: 32px;\n",
              "  }\n",
              "\n",
              "  .colab-df-quickchart:hover {\n",
              "    background-color: #E2EBFA;\n",
              "    box-shadow: 0px 1px 2px rgba(60, 64, 67, 0.3), 0px 1px 3px 1px rgba(60, 64, 67, 0.15);\n",
              "    fill: #174EA6;\n",
              "  }\n",
              "\n",
              "  [theme=dark] .colab-df-quickchart {\n",
              "    background-color: #3B4455;\n",
              "    fill: #D2E3FC;\n",
              "  }\n",
              "\n",
              "  [theme=dark] .colab-df-quickchart:hover {\n",
              "    background-color: #434B5C;\n",
              "    box-shadow: 0px 1px 3px 1px rgba(0, 0, 0, 0.15);\n",
              "    filter: drop-shadow(0px 1px 2px rgba(0, 0, 0, 0.3));\n",
              "    fill: #FFFFFF;\n",
              "  }\n",
              "</style>\n",
              "\n",
              "    <script>\n",
              "      async function quickchart(key) {\n",
              "        const containerElement = document.querySelector('#' + key);\n",
              "        const charts = await google.colab.kernel.invokeFunction(\n",
              "            'suggestCharts', [key], {});\n",
              "      }\n",
              "    </script>\n",
              "\n",
              "      <script>\n",
              "\n",
              "function displayQuickchartButton(domScope) {\n",
              "  let quickchartButtonEl =\n",
              "    domScope.querySelector('#df-9b9ba727-631e-48e0-bfae-26d34c129e9e button.colab-df-quickchart');\n",
              "  quickchartButtonEl.style.display =\n",
              "    google.colab.kernel.accessAllowed ? 'block' : 'none';\n",
              "}\n",
              "\n",
              "        displayQuickchartButton(document);\n",
              "      </script>\n",
              "      <style>\n",
              "    .colab-df-container {\n",
              "      display:flex;\n",
              "      flex-wrap:wrap;\n",
              "      gap: 12px;\n",
              "    }\n",
              "\n",
              "    .colab-df-convert {\n",
              "      background-color: #E8F0FE;\n",
              "      border: none;\n",
              "      border-radius: 50%;\n",
              "      cursor: pointer;\n",
              "      display: none;\n",
              "      fill: #1967D2;\n",
              "      height: 32px;\n",
              "      padding: 0 0 0 0;\n",
              "      width: 32px;\n",
              "    }\n",
              "\n",
              "    .colab-df-convert:hover {\n",
              "      background-color: #E2EBFA;\n",
              "      box-shadow: 0px 1px 2px rgba(60, 64, 67, 0.3), 0px 1px 3px 1px rgba(60, 64, 67, 0.15);\n",
              "      fill: #174EA6;\n",
              "    }\n",
              "\n",
              "    [theme=dark] .colab-df-convert {\n",
              "      background-color: #3B4455;\n",
              "      fill: #D2E3FC;\n",
              "    }\n",
              "\n",
              "    [theme=dark] .colab-df-convert:hover {\n",
              "      background-color: #434B5C;\n",
              "      box-shadow: 0px 1px 3px 1px rgba(0, 0, 0, 0.15);\n",
              "      filter: drop-shadow(0px 1px 2px rgba(0, 0, 0, 0.3));\n",
              "      fill: #FFFFFF;\n",
              "    }\n",
              "  </style>\n",
              "\n",
              "      <script>\n",
              "        const buttonEl =\n",
              "          document.querySelector('#df-31887b28-5c18-4479-8a3f-c34123f09204 button.colab-df-convert');\n",
              "        buttonEl.style.display =\n",
              "          google.colab.kernel.accessAllowed ? 'block' : 'none';\n",
              "\n",
              "        async function convertToInteractive(key) {\n",
              "          const element = document.querySelector('#df-31887b28-5c18-4479-8a3f-c34123f09204');\n",
              "          const dataTable =\n",
              "            await google.colab.kernel.invokeFunction('convertToInteractive',\n",
              "                                                     [key], {});\n",
              "          if (!dataTable) return;\n",
              "\n",
              "          const docLinkHtml = 'Like what you see? Visit the ' +\n",
              "            '<a target=\"_blank\" href=https://colab.research.google.com/notebooks/data_table.ipynb>data table notebook</a>'\n",
              "            + ' to learn more about interactive tables.';\n",
              "          element.innerHTML = '';\n",
              "          dataTable['output_type'] = 'display_data';\n",
              "          await google.colab.output.renderOutput(dataTable, element);\n",
              "          const docLink = document.createElement('div');\n",
              "          docLink.innerHTML = docLinkHtml;\n",
              "          element.appendChild(docLink);\n",
              "        }\n",
              "      </script>\n",
              "    </div>\n",
              "  </div>\n"
            ]
          },
          "metadata": {},
          "execution_count": 47
        }
      ],
      "source": [
        "X"
      ]
    },
    {
      "cell_type": "markdown",
      "metadata": {
        "id": "GjxSKiFwRvGC"
      },
      "source": [
        "# Splitting data"
      ]
    },
    {
      "cell_type": "code",
      "execution_count": 48,
      "metadata": {
        "id": "Qj162XEBxW16"
      },
      "outputs": [],
      "source": [
        "from sklearn.model_selection import train_test_split #import the required function\n",
        "# X_train, X_test, y_train, y_test = train_test_split(X_std, y, test_size=0.25, stratify=y, random_state  = 1)\n",
        "from statistics import mean\n",
        "X_train, X_test, y_train, y_test = train_test_split(X, y, test_size=0.25, stratify=y, random_state  = 1)\n",
        "X_train.reset_index(inplace = True)\n",
        "X_train.drop('index',axis = 1, inplace = True)\n",
        "y_train.reset_index(inplace = True)\n",
        "y_train.drop('index',axis = 1, inplace = True)"
      ]
    },
    {
      "cell_type": "code",
      "source": [
        "X_train\n"
      ],
      "metadata": {
        "colab": {
          "base_uri": "https://localhost:8080/",
          "height": 487
        },
        "id": "Mr5OzGc1z6d-",
        "outputId": "8a93bbe0-4952-46ea-ebe4-7b1a1c7c45a0"
      },
      "execution_count": 56,
      "outputs": [
        {
          "output_type": "execute_result",
          "data": {
            "text/plain": [
              "       age  job  education_qual  day  mon  dur  num_calls  marital_divorced  \\\n",
              "0       48    1               2   17    2   21          1                 0   \n",
              "1       37    7               2   27    1    8          1                 0   \n",
              "2       41    8               2   17    4   21          4                 0   \n",
              "3       45    1               2   29    3    8          3                 0   \n",
              "4       44    5               2    8    2    6          1                 1   \n",
              "...    ...  ...             ...  ...  ...  ...        ...               ...   \n",
              "33903   30    8               3   13    4    2          1                 0   \n",
              "33904   60    1               2   19    1    7          2                 0   \n",
              "33905   33    8               3   13    1   19          1                 0   \n",
              "33906   45    1               1   28    3    2          3                 0   \n",
              "33907   40    3               2   11    1   16          3                 0   \n",
              "\n",
              "       marital_married  marital_single  call_type_cellular  \\\n",
              "0                    1               0                   1   \n",
              "1                    1               0                   1   \n",
              "2                    0               1                   0   \n",
              "3                    1               0                   1   \n",
              "4                    0               0                   0   \n",
              "...                ...             ...                 ...   \n",
              "33903                0               1                   0   \n",
              "33904                1               0                   0   \n",
              "33905                0               1                   1   \n",
              "33906                1               0                   1   \n",
              "33907                1               0                   1   \n",
              "\n",
              "       call_type_telephone  call_type_unknown  prev_outcome_failure  \\\n",
              "0                        0                  0                     0   \n",
              "1                        0                  0                     0   \n",
              "2                        1                  0                     0   \n",
              "3                        0                  0                     0   \n",
              "4                        1                  0                     0   \n",
              "...                    ...                ...                   ...   \n",
              "33903                    1                  0                     1   \n",
              "33904                    0                  1                     0   \n",
              "33905                    0                  0                     0   \n",
              "33906                    0                  0                     0   \n",
              "33907                    0                  0                     1   \n",
              "\n",
              "       prev_outcome_other  prev_outcome_success  prev_outcome_unknown  \n",
              "0                       0                     0                     1  \n",
              "1                       0                     1                     0  \n",
              "2                       0                     0                     1  \n",
              "3                       0                     0                     1  \n",
              "4                       0                     0                     1  \n",
              "...                   ...                   ...                   ...  \n",
              "33903                   0                     0                     0  \n",
              "33904                   0                     0                     1  \n",
              "33905                   0                     0                     1  \n",
              "33906                   0                     0                     1  \n",
              "33907                   0                     0                     0  \n",
              "\n",
              "[33908 rows x 17 columns]"
            ],
            "text/html": [
              "\n",
              "\n",
              "  <div id=\"df-90c4b64e-a758-44c1-a381-1802b760728e\">\n",
              "    <div class=\"colab-df-container\">\n",
              "      <div>\n",
              "<style scoped>\n",
              "    .dataframe tbody tr th:only-of-type {\n",
              "        vertical-align: middle;\n",
              "    }\n",
              "\n",
              "    .dataframe tbody tr th {\n",
              "        vertical-align: top;\n",
              "    }\n",
              "\n",
              "    .dataframe thead th {\n",
              "        text-align: right;\n",
              "    }\n",
              "</style>\n",
              "<table border=\"1\" class=\"dataframe\">\n",
              "  <thead>\n",
              "    <tr style=\"text-align: right;\">\n",
              "      <th></th>\n",
              "      <th>age</th>\n",
              "      <th>job</th>\n",
              "      <th>education_qual</th>\n",
              "      <th>day</th>\n",
              "      <th>mon</th>\n",
              "      <th>dur</th>\n",
              "      <th>num_calls</th>\n",
              "      <th>marital_divorced</th>\n",
              "      <th>marital_married</th>\n",
              "      <th>marital_single</th>\n",
              "      <th>call_type_cellular</th>\n",
              "      <th>call_type_telephone</th>\n",
              "      <th>call_type_unknown</th>\n",
              "      <th>prev_outcome_failure</th>\n",
              "      <th>prev_outcome_other</th>\n",
              "      <th>prev_outcome_success</th>\n",
              "      <th>prev_outcome_unknown</th>\n",
              "    </tr>\n",
              "  </thead>\n",
              "  <tbody>\n",
              "    <tr>\n",
              "      <th>0</th>\n",
              "      <td>48</td>\n",
              "      <td>1</td>\n",
              "      <td>2</td>\n",
              "      <td>17</td>\n",
              "      <td>2</td>\n",
              "      <td>21</td>\n",
              "      <td>1</td>\n",
              "      <td>0</td>\n",
              "      <td>1</td>\n",
              "      <td>0</td>\n",
              "      <td>1</td>\n",
              "      <td>0</td>\n",
              "      <td>0</td>\n",
              "      <td>0</td>\n",
              "      <td>0</td>\n",
              "      <td>0</td>\n",
              "      <td>1</td>\n",
              "    </tr>\n",
              "    <tr>\n",
              "      <th>1</th>\n",
              "      <td>37</td>\n",
              "      <td>7</td>\n",
              "      <td>2</td>\n",
              "      <td>27</td>\n",
              "      <td>1</td>\n",
              "      <td>8</td>\n",
              "      <td>1</td>\n",
              "      <td>0</td>\n",
              "      <td>1</td>\n",
              "      <td>0</td>\n",
              "      <td>1</td>\n",
              "      <td>0</td>\n",
              "      <td>0</td>\n",
              "      <td>0</td>\n",
              "      <td>0</td>\n",
              "      <td>1</td>\n",
              "      <td>0</td>\n",
              "    </tr>\n",
              "    <tr>\n",
              "      <th>2</th>\n",
              "      <td>41</td>\n",
              "      <td>8</td>\n",
              "      <td>2</td>\n",
              "      <td>17</td>\n",
              "      <td>4</td>\n",
              "      <td>21</td>\n",
              "      <td>4</td>\n",
              "      <td>0</td>\n",
              "      <td>0</td>\n",
              "      <td>1</td>\n",
              "      <td>0</td>\n",
              "      <td>1</td>\n",
              "      <td>0</td>\n",
              "      <td>0</td>\n",
              "      <td>0</td>\n",
              "      <td>0</td>\n",
              "      <td>1</td>\n",
              "    </tr>\n",
              "    <tr>\n",
              "      <th>3</th>\n",
              "      <td>45</td>\n",
              "      <td>1</td>\n",
              "      <td>2</td>\n",
              "      <td>29</td>\n",
              "      <td>3</td>\n",
              "      <td>8</td>\n",
              "      <td>3</td>\n",
              "      <td>0</td>\n",
              "      <td>1</td>\n",
              "      <td>0</td>\n",
              "      <td>1</td>\n",
              "      <td>0</td>\n",
              "      <td>0</td>\n",
              "      <td>0</td>\n",
              "      <td>0</td>\n",
              "      <td>0</td>\n",
              "      <td>1</td>\n",
              "    </tr>\n",
              "    <tr>\n",
              "      <th>4</th>\n",
              "      <td>44</td>\n",
              "      <td>5</td>\n",
              "      <td>2</td>\n",
              "      <td>8</td>\n",
              "      <td>2</td>\n",
              "      <td>6</td>\n",
              "      <td>1</td>\n",
              "      <td>1</td>\n",
              "      <td>0</td>\n",
              "      <td>0</td>\n",
              "      <td>0</td>\n",
              "      <td>1</td>\n",
              "      <td>0</td>\n",
              "      <td>0</td>\n",
              "      <td>0</td>\n",
              "      <td>0</td>\n",
              "      <td>1</td>\n",
              "    </tr>\n",
              "    <tr>\n",
              "      <th>...</th>\n",
              "      <td>...</td>\n",
              "      <td>...</td>\n",
              "      <td>...</td>\n",
              "      <td>...</td>\n",
              "      <td>...</td>\n",
              "      <td>...</td>\n",
              "      <td>...</td>\n",
              "      <td>...</td>\n",
              "      <td>...</td>\n",
              "      <td>...</td>\n",
              "      <td>...</td>\n",
              "      <td>...</td>\n",
              "      <td>...</td>\n",
              "      <td>...</td>\n",
              "      <td>...</td>\n",
              "      <td>...</td>\n",
              "      <td>...</td>\n",
              "    </tr>\n",
              "    <tr>\n",
              "      <th>33903</th>\n",
              "      <td>30</td>\n",
              "      <td>8</td>\n",
              "      <td>3</td>\n",
              "      <td>13</td>\n",
              "      <td>4</td>\n",
              "      <td>2</td>\n",
              "      <td>1</td>\n",
              "      <td>0</td>\n",
              "      <td>0</td>\n",
              "      <td>1</td>\n",
              "      <td>0</td>\n",
              "      <td>1</td>\n",
              "      <td>0</td>\n",
              "      <td>1</td>\n",
              "      <td>0</td>\n",
              "      <td>0</td>\n",
              "      <td>0</td>\n",
              "    </tr>\n",
              "    <tr>\n",
              "      <th>33904</th>\n",
              "      <td>60</td>\n",
              "      <td>1</td>\n",
              "      <td>2</td>\n",
              "      <td>19</td>\n",
              "      <td>1</td>\n",
              "      <td>7</td>\n",
              "      <td>2</td>\n",
              "      <td>0</td>\n",
              "      <td>1</td>\n",
              "      <td>0</td>\n",
              "      <td>0</td>\n",
              "      <td>0</td>\n",
              "      <td>1</td>\n",
              "      <td>0</td>\n",
              "      <td>0</td>\n",
              "      <td>0</td>\n",
              "      <td>1</td>\n",
              "    </tr>\n",
              "    <tr>\n",
              "      <th>33905</th>\n",
              "      <td>33</td>\n",
              "      <td>8</td>\n",
              "      <td>3</td>\n",
              "      <td>13</td>\n",
              "      <td>1</td>\n",
              "      <td>19</td>\n",
              "      <td>1</td>\n",
              "      <td>0</td>\n",
              "      <td>0</td>\n",
              "      <td>1</td>\n",
              "      <td>1</td>\n",
              "      <td>0</td>\n",
              "      <td>0</td>\n",
              "      <td>0</td>\n",
              "      <td>0</td>\n",
              "      <td>0</td>\n",
              "      <td>1</td>\n",
              "    </tr>\n",
              "    <tr>\n",
              "      <th>33906</th>\n",
              "      <td>45</td>\n",
              "      <td>1</td>\n",
              "      <td>1</td>\n",
              "      <td>28</td>\n",
              "      <td>3</td>\n",
              "      <td>2</td>\n",
              "      <td>3</td>\n",
              "      <td>0</td>\n",
              "      <td>1</td>\n",
              "      <td>0</td>\n",
              "      <td>1</td>\n",
              "      <td>0</td>\n",
              "      <td>0</td>\n",
              "      <td>0</td>\n",
              "      <td>0</td>\n",
              "      <td>0</td>\n",
              "      <td>1</td>\n",
              "    </tr>\n",
              "    <tr>\n",
              "      <th>33907</th>\n",
              "      <td>40</td>\n",
              "      <td>3</td>\n",
              "      <td>2</td>\n",
              "      <td>11</td>\n",
              "      <td>1</td>\n",
              "      <td>16</td>\n",
              "      <td>3</td>\n",
              "      <td>0</td>\n",
              "      <td>1</td>\n",
              "      <td>0</td>\n",
              "      <td>1</td>\n",
              "      <td>0</td>\n",
              "      <td>0</td>\n",
              "      <td>1</td>\n",
              "      <td>0</td>\n",
              "      <td>0</td>\n",
              "      <td>0</td>\n",
              "    </tr>\n",
              "  </tbody>\n",
              "</table>\n",
              "<p>33908 rows × 17 columns</p>\n",
              "</div>\n",
              "      <button class=\"colab-df-convert\" onclick=\"convertToInteractive('df-90c4b64e-a758-44c1-a381-1802b760728e')\"\n",
              "              title=\"Convert this dataframe to an interactive table.\"\n",
              "              style=\"display:none;\">\n",
              "\n",
              "  <svg xmlns=\"http://www.w3.org/2000/svg\" height=\"24px\"viewBox=\"0 0 24 24\"\n",
              "       width=\"24px\">\n",
              "    <path d=\"M0 0h24v24H0V0z\" fill=\"none\"/>\n",
              "    <path d=\"M18.56 5.44l.94 2.06.94-2.06 2.06-.94-2.06-.94-.94-2.06-.94 2.06-2.06.94zm-11 1L8.5 8.5l.94-2.06 2.06-.94-2.06-.94L8.5 2.5l-.94 2.06-2.06.94zm10 10l.94 2.06.94-2.06 2.06-.94-2.06-.94-.94-2.06-.94 2.06-2.06.94z\"/><path d=\"M17.41 7.96l-1.37-1.37c-.4-.4-.92-.59-1.43-.59-.52 0-1.04.2-1.43.59L10.3 9.45l-7.72 7.72c-.78.78-.78 2.05 0 2.83L4 21.41c.39.39.9.59 1.41.59.51 0 1.02-.2 1.41-.59l7.78-7.78 2.81-2.81c.8-.78.8-2.07 0-2.86zM5.41 20L4 18.59l7.72-7.72 1.47 1.35L5.41 20z\"/>\n",
              "  </svg>\n",
              "      </button>\n",
              "\n",
              "\n",
              "\n",
              "    <div id=\"df-4179ff1a-7352-4aed-91c1-347811b983f1\">\n",
              "      <button class=\"colab-df-quickchart\" onclick=\"quickchart('df-4179ff1a-7352-4aed-91c1-347811b983f1')\"\n",
              "              title=\"Suggest charts.\"\n",
              "              style=\"display:none;\">\n",
              "\n",
              "<svg xmlns=\"http://www.w3.org/2000/svg\" height=\"24px\"viewBox=\"0 0 24 24\"\n",
              "     width=\"24px\">\n",
              "    <g>\n",
              "        <path d=\"M19 3H5c-1.1 0-2 .9-2 2v14c0 1.1.9 2 2 2h14c1.1 0 2-.9 2-2V5c0-1.1-.9-2-2-2zM9 17H7v-7h2v7zm4 0h-2V7h2v10zm4 0h-2v-4h2v4z\"/>\n",
              "    </g>\n",
              "</svg>\n",
              "      </button>\n",
              "    </div>\n",
              "\n",
              "<style>\n",
              "  .colab-df-quickchart {\n",
              "    background-color: #E8F0FE;\n",
              "    border: none;\n",
              "    border-radius: 50%;\n",
              "    cursor: pointer;\n",
              "    display: none;\n",
              "    fill: #1967D2;\n",
              "    height: 32px;\n",
              "    padding: 0 0 0 0;\n",
              "    width: 32px;\n",
              "  }\n",
              "\n",
              "  .colab-df-quickchart:hover {\n",
              "    background-color: #E2EBFA;\n",
              "    box-shadow: 0px 1px 2px rgba(60, 64, 67, 0.3), 0px 1px 3px 1px rgba(60, 64, 67, 0.15);\n",
              "    fill: #174EA6;\n",
              "  }\n",
              "\n",
              "  [theme=dark] .colab-df-quickchart {\n",
              "    background-color: #3B4455;\n",
              "    fill: #D2E3FC;\n",
              "  }\n",
              "\n",
              "  [theme=dark] .colab-df-quickchart:hover {\n",
              "    background-color: #434B5C;\n",
              "    box-shadow: 0px 1px 3px 1px rgba(0, 0, 0, 0.15);\n",
              "    filter: drop-shadow(0px 1px 2px rgba(0, 0, 0, 0.3));\n",
              "    fill: #FFFFFF;\n",
              "  }\n",
              "</style>\n",
              "\n",
              "    <script>\n",
              "      async function quickchart(key) {\n",
              "        const containerElement = document.querySelector('#' + key);\n",
              "        const charts = await google.colab.kernel.invokeFunction(\n",
              "            'suggestCharts', [key], {});\n",
              "      }\n",
              "    </script>\n",
              "\n",
              "      <script>\n",
              "\n",
              "function displayQuickchartButton(domScope) {\n",
              "  let quickchartButtonEl =\n",
              "    domScope.querySelector('#df-4179ff1a-7352-4aed-91c1-347811b983f1 button.colab-df-quickchart');\n",
              "  quickchartButtonEl.style.display =\n",
              "    google.colab.kernel.accessAllowed ? 'block' : 'none';\n",
              "}\n",
              "\n",
              "        displayQuickchartButton(document);\n",
              "      </script>\n",
              "      <style>\n",
              "    .colab-df-container {\n",
              "      display:flex;\n",
              "      flex-wrap:wrap;\n",
              "      gap: 12px;\n",
              "    }\n",
              "\n",
              "    .colab-df-convert {\n",
              "      background-color: #E8F0FE;\n",
              "      border: none;\n",
              "      border-radius: 50%;\n",
              "      cursor: pointer;\n",
              "      display: none;\n",
              "      fill: #1967D2;\n",
              "      height: 32px;\n",
              "      padding: 0 0 0 0;\n",
              "      width: 32px;\n",
              "    }\n",
              "\n",
              "    .colab-df-convert:hover {\n",
              "      background-color: #E2EBFA;\n",
              "      box-shadow: 0px 1px 2px rgba(60, 64, 67, 0.3), 0px 1px 3px 1px rgba(60, 64, 67, 0.15);\n",
              "      fill: #174EA6;\n",
              "    }\n",
              "\n",
              "    [theme=dark] .colab-df-convert {\n",
              "      background-color: #3B4455;\n",
              "      fill: #D2E3FC;\n",
              "    }\n",
              "\n",
              "    [theme=dark] .colab-df-convert:hover {\n",
              "      background-color: #434B5C;\n",
              "      box-shadow: 0px 1px 3px 1px rgba(0, 0, 0, 0.15);\n",
              "      filter: drop-shadow(0px 1px 2px rgba(0, 0, 0, 0.3));\n",
              "      fill: #FFFFFF;\n",
              "    }\n",
              "  </style>\n",
              "\n",
              "      <script>\n",
              "        const buttonEl =\n",
              "          document.querySelector('#df-90c4b64e-a758-44c1-a381-1802b760728e button.colab-df-convert');\n",
              "        buttonEl.style.display =\n",
              "          google.colab.kernel.accessAllowed ? 'block' : 'none';\n",
              "\n",
              "        async function convertToInteractive(key) {\n",
              "          const element = document.querySelector('#df-90c4b64e-a758-44c1-a381-1802b760728e');\n",
              "          const dataTable =\n",
              "            await google.colab.kernel.invokeFunction('convertToInteractive',\n",
              "                                                     [key], {});\n",
              "          if (!dataTable) return;\n",
              "\n",
              "          const docLinkHtml = 'Like what you see? Visit the ' +\n",
              "            '<a target=\"_blank\" href=https://colab.research.google.com/notebooks/data_table.ipynb>data table notebook</a>'\n",
              "            + ' to learn more about interactive tables.';\n",
              "          element.innerHTML = '';\n",
              "          dataTable['output_type'] = 'display_data';\n",
              "          await google.colab.output.renderOutput(dataTable, element);\n",
              "          const docLink = document.createElement('div');\n",
              "          docLink.innerHTML = docLinkHtml;\n",
              "          element.appendChild(docLink);\n",
              "        }\n",
              "      </script>\n",
              "    </div>\n",
              "  </div>\n"
            ]
          },
          "metadata": {},
          "execution_count": 56
        }
      ]
    },
    {
      "cell_type": "markdown",
      "metadata": {
        "id": "nFMhLdpVPh7Z"
      },
      "source": [
        "# Scaling the data"
      ]
    },
    {
      "cell_type": "code",
      "execution_count": 57,
      "metadata": {
        "id": "ZVqicA1vp2bH"
      },
      "outputs": [],
      "source": [
        "from sklearn.preprocessing import StandardScaler\n",
        "\n",
        "scaler = StandardScaler()\n",
        "X_std = pd.DataFrame(scaler.fit_transform(X_train), columns = X_train.columns)"
      ]
    },
    {
      "cell_type": "markdown",
      "metadata": {
        "id": "4bvqftPzR0nl"
      },
      "source": [
        "# Sampling the data"
      ]
    },
    {
      "cell_type": "code",
      "execution_count": 50,
      "metadata": {
        "id": "xJsAypLursaq",
        "colab": {
          "base_uri": "https://localhost:8080/"
        },
        "outputId": "d032abb1-6d54-48d5-ff66-6fbca6e4b0d8"
      },
      "outputs": [
        {
          "output_type": "execute_result",
          "data": {
            "text/plain": [
              "0    39922\n",
              "1     5289\n",
              "Name: y, dtype: int64"
            ]
          },
          "metadata": {},
          "execution_count": 50
        }
      ],
      "source": [
        "data.y.value_counts()"
      ]
    },
    {
      "cell_type": "markdown",
      "metadata": {
        "id": "xWPTgo4bR3oV"
      },
      "source": [
        "There is an imbalance in the classes of the data and it has to be balanced through down sampling and up sampling"
      ]
    },
    {
      "cell_type": "code",
      "execution_count": 51,
      "metadata": {
        "id": "QrgNhLOlwZ0o"
      },
      "outputs": [],
      "source": [
        "from imblearn.combine import SMOTEENN\n",
        "smt = SMOTEENN(sampling_strategy='all')\n",
        "\n",
        "X_smt, y_smt = smt.fit_resample(X_std, y_train)"
      ]
    },
    {
      "cell_type": "code",
      "execution_count": 52,
      "metadata": {
        "id": "Qut-LrbusBrW",
        "colab": {
          "base_uri": "https://localhost:8080/"
        },
        "outputId": "9a8f9bc3-abd8-4960-ab46-236e4a940fe3"
      },
      "outputs": [
        {
          "output_type": "execute_result",
          "data": {
            "text/plain": [
              "y\n",
              "1    28393\n",
              "0    24187\n",
              "dtype: int64"
            ]
          },
          "metadata": {},
          "execution_count": 52
        }
      ],
      "source": [
        "y_smt.value_counts()"
      ]
    },
    {
      "cell_type": "markdown",
      "metadata": {
        "id": "r6JuAq7ASANS"
      },
      "source": [
        "Sample data has almost equal number of element in both the classes"
      ]
    },
    {
      "cell_type": "markdown",
      "metadata": {
        "id": "w8m47ajQSFye"
      },
      "source": [
        "# Function for custom cross validation"
      ]
    },
    {
      "cell_type": "markdown",
      "metadata": {
        "id": "vacCb6TTSJsR"
      },
      "source": [
        "Sampling before cross validation will lead to a lot of duplicates. So a custom function is written to sample the data after the data is split for cross validation"
      ]
    },
    {
      "cell_type": "code",
      "execution_count": 53,
      "metadata": {
        "id": "uwZqxAQ7xef7"
      },
      "outputs": [],
      "source": [
        "from sklearn.metrics import accuracy_score, f1_score\n",
        "from sklearn.tree import DecisionTreeClassifier\n",
        "from sklearn.model_selection import cross_val_score\n",
        "import numpy as np\n",
        "from sklearn.model_selection import StratifiedKFold,KFold\n"
      ]
    },
    {
      "cell_type": "markdown",
      "metadata": {
        "id": "4mftYzkGSWr-"
      },
      "source": [
        "The below function will return a list of cross validation scores. The scores used by default in this function is f1 score. We are using the same function for scoring all models"
      ]
    },
    {
      "cell_type": "code",
      "execution_count": 54,
      "metadata": {
        "id": "97TeZgqwyIEg"
      },
      "outputs": [],
      "source": [
        "def cross_validate_custom(model,n,X_tr,y_tr):\n",
        "  skf = StratifiedKFold(n_splits=n)\n",
        "  f1_mean = []\n",
        "  for train_data_index,val_data_index in skf.split(X_tr,y_tr):\n",
        "    X_train_cv,y_train_cv = X_tr.iloc[train_data_index], y_tr.iloc[train_data_index]\n",
        "    X_val_cv, y_val_cv = X_tr.iloc[val_data_index],y_tr.iloc[val_data_index]\n",
        "    X_smt_cv,y_smt_cv = smt.fit_resample(X_train_cv, y_train_cv)\n",
        "    model.fit(X_smt_cv, y_smt_cv.values.ravel())\n",
        "    y_pred = model.predict(X_val_cv)\n",
        "    f1 = f1_score(y_val_cv, y_pred)\n",
        "    f1_mean.append(f1)\n",
        "  return f1_mean\n"
      ]
    },
    {
      "cell_type": "markdown",
      "metadata": {
        "id": "1WDxch5ASlGW"
      },
      "source": [
        "# Decision tree classifier"
      ]
    },
    {
      "cell_type": "code",
      "execution_count": null,
      "metadata": {
        "colab": {
          "background_save": true,
          "base_uri": "https://localhost:8080/"
        },
        "id": "OQlUxnOHyPU4",
        "outputId": "daec72a8-ef9a-4542-d627-14b9fd83261f"
      },
      "outputs": [
        {
          "name": "stdout",
          "output_type": "stream",
          "text": [
            "depth : 1 cv score : 0.3514876553296896\n",
            "depth : 2 cv score : 0.3419813049229075\n",
            "depth : 3 cv score : 0.41562970936123306\n",
            "depth : 4 cv score : 0.42104853877140397\n",
            "depth : 5 cv score : 0.4990362146703764\n",
            "depth : 6 cv score : 0.4671638361575983\n",
            "depth : 7 cv score : 0.4934804767371803\n",
            "depth : 8 cv score : 0.51299769641556\n",
            "depth : 9 cv score : 0.521097829132911\n",
            "depth : 10 cv score : 0.5281251321709839\n",
            "depth : 15 cv score : 0.5529541192356469\n",
            "depth : 20 cv score : 0.5411286800842132\n",
            "depth : 25 cv score : 0.5449716581800963\n",
            "depth : 30 cv score : 0.5453823075101162\n"
          ]
        }
      ],
      "source": [
        "for depth in [1,2,3,4,5,6,7,8,9,10,15,20,25,30]:\n",
        "  dt = DecisionTreeClassifier(max_depth=depth)\n",
        "  f1_mean = cross_validate_custom(dt,8,X_std,y_train)\n",
        "  print(f\"depth : {depth} cv score : {mean(f1_mean)}\")"
      ]
    },
    {
      "cell_type": "code",
      "execution_count": 58,
      "metadata": {
        "colab": {
          "base_uri": "https://localhost:8080/"
        },
        "id": "T7aAURVVMULf",
        "outputId": "8a919588-79c9-45bd-9e6c-103639b2b0eb"
      },
      "outputs": [
        {
          "output_type": "stream",
          "name": "stdout",
          "text": [
            "Test set accuracy: 0.86\n",
            "Test set f1-score: 0.55\n"
          ]
        },
        {
          "output_type": "stream",
          "name": "stderr",
          "text": [
            "/usr/local/lib/python3.10/dist-packages/sklearn/base.py:439: UserWarning: X does not have valid feature names, but DecisionTreeClassifier was fitted with feature names\n",
            "  warnings.warn(\n"
          ]
        }
      ],
      "source": [
        "dt = DecisionTreeClassifier(max_depth=15)\n",
        "X_smt, y_smt = smt.fit_resample(X_std, y_train)\n",
        "dt.fit(X_smt,y_smt)\n",
        "y_pred = dt.predict(scaler.transform(X_test))\n",
        "f1 = f1_score(y_test, y_pred)\n",
        "acc = accuracy_score(y_test, y_pred)\n",
        "\n",
        "print(\"Test set accuracy: {:.2f}\".format(acc))\n",
        "print(\"Test set f1-score: {:.2f}\".format(f1))"
      ]
    },
    {
      "cell_type": "code",
      "execution_count": null,
      "metadata": {
        "id": "Uv40pVgp0RhQ"
      },
      "outputs": [],
      "source": [
        "from sklearn.neighbors import KNeighborsClassifier\n",
        "for i in [1,2,3,4,5,6,7,8,9,10,15,20,25,30]:\n",
        "  knn = KNeighborsClassifier(n_neighbors=i) #it will initialise the model with @neighbours as k\n",
        "  f1_mean = cross_validate_custom(knn,5,X_std,y_train)\n",
        "  print(\"K  : \", i, \" Cross val score : \" ,mean(f1_mean))"
      ]
    },
    {
      "cell_type": "code",
      "execution_count": null,
      "metadata": {
        "colab": {
          "base_uri": "https://localhost:8080/"
        },
        "id": "Kl8gmI5v1vwn",
        "outputId": "be362865-4599-4bab-d8cd-5b78539a9c1e"
      },
      "outputs": [
        {
          "name": "stdout",
          "output_type": "stream",
          "text": [
            "Test set accuracy: 0.82\n",
            "Test set f1-score: 0.51\n"
          ]
        }
      ],
      "source": [
        "knn = KNeighborsClassifier(n_neighbors=3)\n",
        "knn.fit(X_smt, y_smt) # train the model\n",
        "\n",
        "y_pred = knn.predict(scaler.transform(X_test))\n",
        "acc = accuracy_score(y_test, y_pred)\n",
        "f1 = f1_score(y_test, y_pred)\n",
        "\n",
        "print(\"Test set accuracy: {:.2f}\".format(acc))\n",
        "print(\"Test set f1-score: {:.2f}\".format(f1))"
      ]
    },
    {
      "cell_type": "code",
      "execution_count": null,
      "metadata": {
        "colab": {
          "base_uri": "https://localhost:8080/"
        },
        "id": "gWpzB8XS286A",
        "outputId": "057878b3-5d1f-401e-da4e-1694df6c09aa"
      },
      "outputs": [
        {
          "name": "stdout",
          "output_type": "stream",
          "text": [
            "depth: 19, trees: 10, score : 0.5686394545012684 \n",
            "depth: 19, trees: 25, score : 0.5732029066845232 \n",
            "depth: 19, trees: 50, score : 0.574244933970156 \n",
            "depth: 21, trees: 10, score : 0.5756708463270899 \n",
            "depth: 21, trees: 25, score : 0.571288681193054 \n",
            "depth: 21, trees: 50, score : 0.5752883234125495 \n"
          ]
        }
      ],
      "source": [
        "from sklearn.ensemble import RandomForestClassifier\n",
        "\n",
        "for depth in [19,21]:\n",
        "  for estim in [10,25,50]:\n",
        "    clf = RandomForestClassifier(max_depth=depth, random_state=0, n_estimators = estim)\n",
        "    f1_mean = cross_validate_custom(clf,5,X_std,y_train)\n",
        "    print(f\"depth: {depth}, trees: {estim}, score : {mean(f1_mean)} \")\n",
        "\n"
      ]
    },
    {
      "cell_type": "code",
      "execution_count": null,
      "metadata": {
        "colab": {
          "base_uri": "https://localhost:8080/"
        },
        "id": "By6FnHxo3iGF",
        "outputId": "bd68695a-8774-41c7-a76f-3b697f478173"
      },
      "outputs": [
        {
          "name": "stdout",
          "output_type": "stream",
          "text": [
            "Test set accuracy: 0.86\n",
            "Test set f1-score: 0.58\n"
          ]
        }
      ],
      "source": [
        "clf = RandomForestClassifier(max_depth=21, random_state=0, n_estimators =10 )\n",
        "clf.fit(X_smt, y_smt.values.ravel())\n",
        "\n",
        "y_pred = clf.predict(scaler.transform(X_test))\n",
        "acc = accuracy_score(y_test, y_pred)\n",
        "f1 = f1_score(y_test, y_pred)\n",
        "\n",
        "print(\"Test set accuracy: {:.2f}\".format(acc))\n",
        "print(\"Test set f1-score: {:.2f}\".format(f1))"
      ]
    },
    {
      "cell_type": "code",
      "execution_count": 62,
      "metadata": {
        "colab": {
          "base_uri": "https://localhost:8080/"
        },
        "id": "2By3rA9BqlhX",
        "outputId": "82aa487b-9d49-42e8-9597-2030383c63e4"
      },
      "outputs": [
        {
          "output_type": "stream",
          "name": "stdout",
          "text": [
            "depth: 5, trees: 40, score : 0.5885161845630847 \n",
            "depth: 5, trees: 50, score : 0.5965299948125936 \n",
            "depth: 5, trees: 60, score : 0.599101184488765 \n",
            "depth: 7, trees: 40, score : 0.6025361927247882 \n",
            "depth: 7, trees: 50, score : 0.6015498250885403 \n",
            "depth: 7, trees: 60, score : 0.6036083845539165 \n",
            "depth: 9, trees: 40, score : 0.6016482940992547 \n",
            "depth: 9, trees: 50, score : 0.6008226277638717 \n",
            "depth: 9, trees: 60, score : 0.6015957573115095 \n"
          ]
        }
      ],
      "source": [
        "from xgboost import XGBClassifier\n",
        "\n",
        "for depth in [5,7,9]:\n",
        "  for estim in [40,50,60]:\n",
        "    xgb = XGBClassifier(max_depth=depth, random_state=0, n_estimators = estim)\n",
        "    f1_mean = cross_validate_custom(xgb,8,X_std,y_train)\n",
        "    print(f\"depth: {depth}, trees: {estim}, score : {mean(f1_mean)} \")\n"
      ]
    },
    {
      "cell_type": "code",
      "source": [
        "for depth in [10]:\n",
        "  for estim in [40,50,60]:\n",
        "    xgb = XGBClassifier(max_depth=depth, random_state=0, n_estimators = estim)\n",
        "    f1_mean = cross_validate_custom(xgb,8,X_std,y_train)\n",
        "    print(f\"depth: {depth}, trees: {estim}, score : {mean(f1_mean)} \")"
      ],
      "metadata": {
        "colab": {
          "base_uri": "https://localhost:8080/"
        },
        "id": "MA5z5Bo79eT4",
        "outputId": "9e5fb088-4aae-4fb4-abda-a2e04f3273e5"
      },
      "execution_count": 66,
      "outputs": [
        {
          "output_type": "stream",
          "name": "stdout",
          "text": [
            "depth: 10, trees: 40, score : 0.5972799826701153 \n",
            "depth: 10, trees: 50, score : 0.5998254083753564 \n",
            "depth: 10, trees: 60, score : 0.6017446951533797 \n"
          ]
        }
      ]
    },
    {
      "cell_type": "code",
      "execution_count": 65,
      "metadata": {
        "colab": {
          "base_uri": "https://localhost:8080/"
        },
        "id": "i2Mh0atfahrF",
        "outputId": "e60fc983-d399-4b68-cae4-fb7a9ff6ebb7"
      },
      "outputs": [
        {
          "output_type": "stream",
          "name": "stdout",
          "text": [
            "Test set accuracy: 0.88\n",
            "Test set f1-score: 0.61\n"
          ]
        }
      ],
      "source": [
        "from xgboost import XGBClassifier\n",
        "xgb = XGBClassifier(max_depth=7, random_state=0, n_estimators =60 )\n",
        "xgb.fit(X_smt, y_smt.values.ravel())\n",
        "\n",
        "y_pred = xgb.predict(scaler.transform(X_test))\n",
        "acc = accuracy_score(y_test, y_pred)\n",
        "f1 = f1_score(y_test, y_pred)\n",
        "\n",
        "print(\"Test set accuracy: {:.2f}\".format(acc))\n",
        "print(\"Test set f1-score: {:.2f}\".format(f1))"
      ]
    },
    {
      "cell_type": "code",
      "execution_count": 67,
      "metadata": {
        "id": "rrvVQ_EJx0rI"
      },
      "outputs": [],
      "source": [
        "import pickle\n",
        "\n",
        "pickle.dump(xgb,open('model.pkl','wb'))\n",
        "pickle.dump(scaler,open('scaler.pkl','wb'))"
      ]
    }
  ],
  "metadata": {
    "colab": {
      "provenance": []
    },
    "kernelspec": {
      "display_name": "Python 3",
      "name": "python3"
    },
    "language_info": {
      "name": "python"
    }
  },
  "nbformat": 4,
  "nbformat_minor": 0
}
